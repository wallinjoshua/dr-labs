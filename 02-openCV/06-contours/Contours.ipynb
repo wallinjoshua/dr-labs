{
 "cells": [
  {
   "cell_type": "code",
   "execution_count": null,
   "metadata": {
    "scrolled": true
   },
   "outputs": [],
   "source": [
    "# FIRST import all the necessary libraries and modules!\n",
    "import cv2               # import OpenCV\n",
    "import numpy as np       # import NumPy\n",
    "\n",
    "# import functions \n",
    "import sys\n",
    "sys.path.insert(0, '../..')\n",
    "from utils import *     "
   ]
  },
  {
   "cell_type": "markdown",
   "metadata": {},
   "source": [
    "# Contours\n",
    "\n",
    "<p style='font-size:1.75rem;line-height:1.5'>\n",
    "In this lab, we will learn about contours and how to use contours to help us identify objects. Furthermore, we will be learning about the following functions: \n",
    "    <ul style='font-size:1.75rem;line-height:1.5'>\n",
    "        <li> <code> cv2.threshold </code>  </li>\n",
    "        <li> <code> cv2.findContours </code>  </li>\n",
    "        <li> <code> cv2.drawContours </code>  </li>\n",
    "        <li> <code> cv2.contourArea </code>  </li>\n",
    "        <li> <code> cv2.boundingRect </code>  </li>\n",
    "        <li> <code> cv2.minAreaRect </code>  </li>\n",
    "        <li> <code> cv2.minEnclosingCircle</code>  </li>\n",
    "    </ul>\n",
    "    </p>\n",
    "    \n",
    "<p style='font-size:1.75rem;line-height:1.5'>  \n",
    "    We will learn how to create a function to help us detect drawings on a piece of paper! \n",
    "    </p>\n",
    "\n",
    "### What is a contour? \n",
    "\n",
    "<p style='font-size:1.75rem;line-height:1.5'>\n",
    "    A contour is a curve joining all continuous points along a boundary. The green below outlines the contours of a computer mouse:\n",
    "    </p>\n",
    "\n",
    "<img src=\"https://www.bing.com/th?id=OIP.Zjz0R-kZkhX96JTEeU8cSwHaFj&pid=Api&rs=1&p=0\" alt=\"mouse contour\" style=\"width: 300px;\"/>\n",
    "\n",
    "\n",
    "### Why contours?\n",
    "\n",
    "<p style='font-size:1.75rem;line-height:1.5'>\n",
    "    Contours can help us analyze an object's shape and detect objects, so they will be helpful in the future when we want detect specific objects or obstacles in the car's field of view (ie. cones).\n",
    "    </p>\n",
    "\n",
    "<img src=\"http://4.bp.blogspot.com/-ZNhledLRAyo/ULYPHPSd8rI/AAAAAAAAANk/WwRi4jhW7cU/s1600/result.png\" alt=\"object contour detection\" style=\"width: 300px;\"/>"
   ]
  },
  {
   "cell_type": "markdown",
   "metadata": {},
   "source": [
    "---\n",
    "\n",
    "# Find and Draw Contours\n",
    "\n",
    "<p style='font-size:1.75rem;line-height:1.5'>\n",
    "    In the following section, we will learn how to find and draw contours. \n",
    "    <br>To find the contours of an image, a few steps need to be taken: \n",
    "    </p>\n",
    "\n",
    "<p style='font-size:1.75rem;line-height:1.5'>\n",
    "    <b style=\"color:blue\">STEP #1:</b> Read the image.\n",
    "    </p>\n",
    "\n",
    "<img src='star.png' width='100' height='100'> </img>"
   ]
  },
  {
   "cell_type": "code",
   "execution_count": null,
   "metadata": {
    "scrolled": true
   },
   "outputs": [],
   "source": [
    "# TASK #1: Read 'star.png' via cv2.imread. Save as 'img'.\n",
    "\n",
    "\n",
    "# Save the original image to display later.\n",
    "img_copy = img.copy()\n",
    "\n",
    "# Show image in popup window\n",
    "cv2.imshow('original', img)\n",
    "close_windows()"
   ]
  },
  {
   "cell_type": "markdown",
   "metadata": {},
   "source": [
    "<p style='font-size:1.75rem;line-height:1.5'>\n",
    "    <b style=\"color:blue\">STEP #2:</b> Convert the image into grayscale.\n",
    "    </p>\n",
    "\n",
    "<img src='imgray_star.png' width='100' height='100'> </img>"
   ]
  },
  {
   "cell_type": "code",
   "execution_count": null,
   "metadata": {
    "scrolled": true
   },
   "outputs": [],
   "source": [
    "# TASK #2: Convert the BGR image to grayscale via cv2.COLOR_BGR2GRAY. \n",
    "#          Save as 'img_gray' \n",
    "\n",
    "\n",
    "# Show image in popup window\n",
    "cv2.imshow('grayscale', img_gray)\n",
    "close_windows()"
   ]
  },
  {
   "cell_type": "markdown",
   "metadata": {},
   "source": [
    "<p style='font-size:1.75rem;line-height:1.5'>\n",
    "    <b style=\"color:blue\">STEP #3:</b> Convert the grayscale image into a binary image with <code>cv2.threshold</code>. \n",
    "    </p>\n",
    "\n",
    "<p style='font-size:1.75rem;line-height:1.5'>\n",
    "    <code>cv2.threshold</code> looks at each pixel to see if it is greater than or less than the threshold value, and then reassigns the input minVal/maxVal to the pixel.\n",
    "    </p>\n",
    "\n",
    "<p style='font-size:1.75rem;line-height:1.5'>\n",
    "    It has the following format: \n",
    "    </p>\n",
    "    \n",
    "```python\n",
    "thresh = cv2.threshold(<grayscale_image>, <threshold_value>, <maxVal>, <minVal>)[1]\n",
    "```\n",
    "\n",
    "<img src='black_whiteb.png' width='100' height='100'> </img>\n"
   ]
  },
  {
   "cell_type": "code",
   "execution_count": null,
   "metadata": {
    "scrolled": true
   },
   "outputs": [],
   "source": [
    "# TASK #3: Threshold the image. Save as 'thresh'.\n",
    "#          Use threshold_value=240, maxVal=255, and minVal=0\n",
    "\n",
    "\n",
    "# Show image in popup window\n",
    "cv2.imshow('threshold', thresh)\n",
    "close_windows()"
   ]
  },
  {
   "cell_type": "markdown",
   "metadata": {},
   "source": [
    "<p style='font-size:1.75rem;line-height:1.5'>\n",
    "    <b style=\"color:blue\">STEP #4:</b> Invert the threshold mask\n",
    "    </p>\n",
    "\n",
    "<img src='white_blackB.png' width='100' height='100'> </img>"
   ]
  },
  {
   "cell_type": "code",
   "execution_count": null,
   "metadata": {
    "scrolled": true
   },
   "outputs": [],
   "source": [
    "# TASK #4: Invert the threshold mask via cv2.bitwise_not. Save as 'mask'\n",
    "\n",
    "\n",
    "# Show image in popup window\n",
    "cv2.imshow('mask', mask)\n",
    "close_windows()"
   ]
  },
  {
   "cell_type": "markdown",
   "metadata": {},
   "source": [
    "<p style='font-size:1.75rem;line-height:1.5'>\n",
    "    <b style=\"color:blue\">STEP #5:</b> Use <code>cv2.findContours</code> to find the list of contours.\n",
    "    </p>\n",
    "\n",
    "<p style='font-size:1.75rem;line-height:1.5'>\n",
    "    It has the following format:\n",
    "    </p>\n",
    "    \n",
    "```python\n",
    "contours = cv2.findContours(<mask>, 3, 2)[1]\n",
    "```"
   ]
  },
  {
   "cell_type": "code",
   "execution_count": null,
   "metadata": {
    "scrolled": true
   },
   "outputs": [],
   "source": [
    "# TASK #5: Find contours of 'mask' via cv2.findContours. Save as 'contours'.\n",
    "\n",
    "\n",
    "# Print contours found\n",
    "print(contours)"
   ]
  },
  {
   "cell_type": "markdown",
   "metadata": {},
   "source": [
    "<p style='font-size:1.75rem;line-height:1.5'>\n",
    "    <b style=\"color:blue\">STEP #6:</b> Draw contours via <code>cv2.drawContours</code>.\n",
    "    </p>\n",
    "\n",
    "<p style='font-size:1.75rem;line-height:1.5'>\n",
    "    It has the following format:\n",
    "    </p>\n",
    "    \n",
    "```python\n",
    "cv2.drawContours(<image>, <contours>, <contour_index>, <color>, <thickness>)\n",
    "```\n",
    "\n",
    "<p style='font-size:1.75rem;line-height:1.5'>\n",
    "    <b>Notes:</b> \n",
    "    <br> Use <code>-1</code> for <code>&lt;contour_index&gt;</code> to draw all contours. \n",
    "    <br> To draw a specific contour, index into the list via <code>[contours[i]]</code> for <code>&lt;contours&gt;</code>, and set <code>0</code> for <code>&lt;contour_index&gt;</code>\n",
    "    </p>\n",
    "\n",
    "<img src='contour_star.png' width='100' height='100'> </img>"
   ]
  },
  {
   "cell_type": "code",
   "execution_count": null,
   "metadata": {
    "scrolled": true
   },
   "outputs": [],
   "source": [
    "# TASK #6: Draw GREEN contours via cv2.drawContours. \n",
    "#          Use contour_index=-1 and thickness=3.\n",
    "\n",
    "\n",
    "# Show image in popup window\n",
    "cv2.imshow('contours', img)\n",
    "close_windows()"
   ]
  },
  {
   "cell_type": "markdown",
   "metadata": {},
   "source": [
    "<p style='font-size:1.75rem;line-height:1.5'>\n",
    "    <b style=\"color:red\">Exercise:</b> \n",
    "    <br> Draw <b style=\"color:blue\">blue contours</b> around the opencv logo <code>opencv_logo.png</code> only. Experiment with the first parameter of <code>cv2.threshold</code>. Note that the opencv logo naturally has a white background.\n",
    "    </p>"
   ]
  },
  {
   "cell_type": "code",
   "execution_count": null,
   "metadata": {
    "scrolled": true
   },
   "outputs": [],
   "source": [
    "# TASK #1: Read the image 'opencv_logo.png'. Save as 'img'\n",
    "\n",
    "\n",
    "# TASK #2: Convert the image into grayscale via cv2.cvtcolor\n",
    "\n",
    "\n",
    "# TASK #3: Threshold the image via cv2.threshold.\n",
    "#          Use threshold_value=240, maxVal=255, and minVal=0\n",
    "\n",
    "\n",
    "# TASK #4: Find the list of contours of 'thresh' via cv2.findContours\n",
    "\n",
    "\n",
    "# TASK #5: Draw BLUE contours via cv2.drawContours on 'img'\n",
    "\n",
    "\n",
    "\n",
    "# Show image in popup window\n",
    "cv2.imshow('opencv contours', img)\n",
    "close_windows()"
   ]
  },
  {
   "cell_type": "markdown",
   "metadata": {},
   "source": [
    "# Contour Features and Properties\n",
    "<p style='font-size:1.75rem;line-height:1.5'>\n",
    "    Now that we know a bit more about contours and how to use them, lets extract some data from them! \n",
    "    </p>\n",
    "\n",
    "### Contour Area\n",
    "<p style='font-size:1.75rem;line-height:1.5'>\n",
    "    <code>cv2.contourArea(&lt;single_contour&gt;)</code> calculates the total area that a contour encloses. \n",
    "</p> \n",
    "\n",
    "<p style='font-size:1.75rem;line-height:1.5'>\n",
    "    It is necessary to select a <b>single contour</b> when looking for the area, even when <code>contours</code> only has one contour stored in it.\n",
    "    </p>\n",
    "    \n",
    "<p style='font-size:1.75rem;line-height:1.5'>\n",
    "    <b style=\"color:red\">Exercise:</b> \n",
    "    <br> Find the contour area of <code>star.png</code>\n",
    "    </p>"
   ]
  },
  {
   "cell_type": "code",
   "execution_count": null,
   "metadata": {
    "scrolled": true
   },
   "outputs": [],
   "source": [
    "# Get contours of star.png\n",
    "img = cv2.imread('star.png')\n",
    "img_gray = cv2.cvtColor(img, cv2.COLOR_BGR2GRAY)\n",
    "thresh = cv2.threshold(img_gray, 240, 255, 0)[1]\n",
    "inverted_thresh = cv2.bitwise_not(thresh)\n",
    "contours = cv2.findContours(inverted_thresh, 3, 2)[1]\n",
    "\n",
    "\n",
    "# TASK #1: Index into the first contour and save it to 'cnt'.\n",
    "\n",
    "\n",
    "# TASK #2: Get the contour area of the first contour\n",
    "\n",
    "\n",
    "# TASK #3: Print the area\n",
    "\n",
    "\n",
    "\n",
    "# Show the first contour \n",
    "cv2.drawContours(img, [cnt], 0, (255, 0, 0), 3)\n",
    "cv2.imshow('star contour', img)\n",
    "close_windows()"
   ]
  },
  {
   "cell_type": "markdown",
   "metadata": {},
   "source": [
    "### Straight Bounding Rectangle\n",
    "\n",
    "<p style='font-size:1.75rem;line-height:1.5'>\n",
    "    We can use <code>cv2.boundingRect</code> to draw a rectangle. \n",
    "    <br> It has the following format: \n",
    "    </p>\n",
    "    \n",
    " ```python\n",
    "x, y, w, h = cv2.boundingRect(<single_contour>)\n",
    " ```\n",
    " \n",
    "<img src=\"bolt_bounding_rectangle.png\" width=\"150\" height=\"150\"> </img>\n",
    "\n",
    "<p style='font-size:1.75rem;line-height:1.5'>\n",
    "    <b style=\"color:red\">Exercise:</b> \n",
    "    <br> Find the straight bounding rectangle of <code>bolt.jpg</code>\n",
    "    </p>"
   ]
  },
  {
   "cell_type": "code",
   "execution_count": null,
   "metadata": {
    "scrolled": true
   },
   "outputs": [],
   "source": [
    "# Get contours of bolt.png\n",
    "img = cv2.imread('bolt.jpg')\n",
    "img_gray = cv2.cvtColor(img, cv2.COLOR_BGR2GRAY)\n",
    "thresh = cv2.threshold(img_gray, 240, 255, 0)[1]\n",
    "contours = cv2.findContours(thresh, 3, 2)[1]\n",
    "\n",
    "\n",
    "# TASK #1: Get bounding rectangle of the first contour\n",
    "\n",
    "\n",
    "# TASK #2: Draw a GREEN bounding rectangle using cv2.rectangle\n",
    "\n",
    "\n",
    "\n",
    "# Show bounding rectangle in popup window\n",
    "cv2.imshow('bounding rectangle', img)\n",
    "close_windows()"
   ]
  },
  {
   "cell_type": "markdown",
   "metadata": {},
   "source": [
    "### Minimum Enclosing Rotated Box\n",
    "\n",
    "<p style='font-size:1.75rem;line-height:1.5'>\n",
    "    Another bounding rectangle is <code>cv2.minAreaRect</code>. This rectangle encloses the contour with the smallest area, and can be rotated.\n",
    "    </p>\n",
    "    \n",
    "<p style='font-size:1.75rem;line-height:1.5'>\n",
    "     The function has the following format:\n",
    "     </p>\n",
    "     \n",
    "```python\n",
    "rect = cv2.minAreaRect(<single_contour>)\n",
    "```\n",
    "\n",
    "<img src=\"https://docs.opencv.org/3.1.0/boundingrect.png\" width=\"150\" height=\"150\"> </img>\n",
    "\n",
    "<p style='font-size:1.75rem;line-height:1.5'>\n",
    "    <b style=\"color:red\">Exercise:</b> \n",
    "    <br> Find the minimum enclosing rectangle of <code>bolt.jpg</code>\n",
    "    </p>"
   ]
  },
  {
   "cell_type": "code",
   "execution_count": null,
   "metadata": {
    "scrolled": true
   },
   "outputs": [],
   "source": [
    "# Get contours of bolt.png\n",
    "img = cv2.imread('bolt.jpg')\n",
    "img_gray = cv2.cvtColor(img, cv2.COLOR_BGR2GRAY)\n",
    "thresh = cv2.threshold(img_gray, 240, 255, 0)[1]\n",
    "contours = cv2.findContours(thresh, 3, 2)[1]\n",
    "\n",
    "\n",
    "# TASK: Get min area bounding rectangle of the first contour. \n",
    "#       Save as 'rect'.\n",
    "\n",
    "\n",
    "\n",
    "# Draw the rectangle\n",
    "box = np.int0(cv2.boxPoints(rect))\n",
    "res = cv2.drawContours(img, [box], 0, (0,0,255), 2)\n",
    "\n",
    "# Show min area bounded rectangle\n",
    "cv2.imshow('min bounded rectangle', res)\n",
    "close_windows()"
   ]
  },
  {
   "cell_type": "markdown",
   "metadata": {},
   "source": [
    "<p style='font-size:1.75rem;line-height:1.5'>\n",
    "    <b>Optional Note on <code>cv2.minAreaRect</code>:</b>\n",
    "    </p>\n",
    "<code>rect = cv2.minAreaRect(&lt;contour&gt;)</code> will output rectangle data so that <code>box_points = cv2.boxPoints(rect)</code> can calculate box points. The box points will be floating data types at first, so we want to use <code>np.int0(box_points)</code> to convert the datatype from floats to integers. Then, we can use <code>cv2.drawContours</code> to draw the minimum enclosed (rotated) box around the image."
   ]
  },
  {
   "cell_type": "markdown",
   "metadata": {},
   "source": [
    "### Minimum Enclosing Circle\n",
    "\n",
    "<p style='font-size:1.75rem;line-height:1.5'>\n",
    "    <code>cv2.minEnclosingCircle</code> gives us the center and radius of the minimum enclosing circle of a contour.\n",
    "    </p>\n",
    "        \n",
    "<p style='font-size:1.75rem;line-height:1.5'>\n",
    "     The function has the following format:\n",
    "     </p>\n",
    "     \n",
    "```python\n",
    "(x,y), radius = cv2.minEnclosingCircle(<single_contour>)\n",
    "```\n",
    "\n",
    "<img src=\"bolt_bounding_circle.png\" width=\"150\" height=\"150\">  </img>\n",
    "\n",
    "<p style='font-size:1.75rem;line-height:1.5'>\n",
    "    <b style=\"color:red\">Exercise:</b> \n",
    "    <br> Find the minimum enclosing circle of <code>bolt.jpg</code>\n",
    "    </p>"
   ]
  },
  {
   "cell_type": "code",
   "execution_count": null,
   "metadata": {
    "scrolled": true
   },
   "outputs": [],
   "source": [
    "# Get contours of bolt.png\n",
    "img = cv2.imread('bolt.jpg')\n",
    "img_gray = cv2.cvtColor(img, cv2.COLOR_BGR2GRAY)\n",
    "thresh = cv2.threshold(img_gray, 240, 255, 0)[1]\n",
    "contours = cv2.findContours(thresh, 3, 2)[1]\n",
    "\n",
    "# TASK #1: Get the minimum enclosing circle of the first contour\n",
    "\n",
    "\n",
    "# Convert to values to int\n",
    "center = (int(x),int(y))\n",
    "radius = int(radius)\n",
    "\n",
    "# TASK #2: Draw a GREEN bounding circle using cv2.circle\n",
    "\n",
    "\n",
    "# Show image in popup\n",
    "cv2.imshow('enclosing circle', img)\n",
    "close_windows()"
   ]
  },
  {
   "cell_type": "markdown",
   "metadata": {},
   "source": [
    "\n",
    "---\n"
   ]
  },
  {
   "cell_type": "markdown",
   "metadata": {},
   "source": [
    "# Let's Draw it All!\n",
    "\n",
    "<p style='font-size:1.75rem;line-height:1.5'>\n",
    "    Let's put everything we've learned altogether now! Draw a straight bounded rectangle, a minimum area rectangle, and a minimum enclosing circle around <code>bolt.jpg</code>. Make sure to use different colors for the different contours!\n",
    "</p> "
   ]
  },
  {
   "cell_type": "code",
   "execution_count": null,
   "metadata": {
    "scrolled": true
   },
   "outputs": [],
   "source": [
    "# TASK #1: Read the image 'bolt.jpg'. Save as 'img'\n",
    "\n",
    "\n",
    "# TASK #2: Convert the image into grayscale \n",
    "\n",
    "\n",
    "# TASK #3: Threshold the image via cv2.threshold.\n",
    "#          Use threshold_value=240, maxVal=255, and minVal=0\n",
    "\n",
    "\n",
    "# TASK #3: Find the contours of thresh\n",
    "\n",
    "\n",
    "# TASK #4: Use cv2.boundingRect to find x, y, w, h\n",
    "\n",
    "\n",
    "# TASK #5: Draw a BLUE straight rectangle \n",
    "\n",
    "\n",
    "# TASK #6: Use cv2.minAreaRect to find the minimum enclosing rectangle. \n",
    "#          Save as 'rect'\n",
    "\n",
    "\n",
    "# Draw minimum enclosing rectangle\n",
    "box = np.int0(cv2.boxPoints(rect))\n",
    "res = cv2.drawContours(img, [box], 0, (0,255,0), 2)\n",
    "\n",
    "# TASK #7: Use cv2.minEnclosingCircle to find radius and (x,y)\n",
    "\n",
    "\n",
    "# Convert values to int\n",
    "(x,y) = int(x), int(y)\n",
    "radius = int(radius)\n",
    "\n",
    "# TASK #8: Draw the RED circle \n",
    "\n",
    "\n",
    "# Show the image\n",
    "cv2.imshow('all contours', img)\n",
    "close_windows()"
   ]
  },
  {
   "cell_type": "markdown",
   "metadata": {},
   "source": [
    "\n",
    "---\n"
   ]
  },
  {
   "cell_type": "markdown",
   "metadata": {},
   "source": [
    "# Drawing Detector\n",
    "<p style='font-size:1.75rem;line-height:1.5'>\n",
    "    Let's draw a contour around our very own drawings! \n",
    "    <br> Here is what we need to do:\n",
    "    <ul style='font-size:1.75rem;line-height:1.5'>\n",
    "        <li> Get a piece of white printer paper AND colored marker from a TA. </li>\n",
    "        <li> Draw an image using your colored marker on the printer paper. </li>\n",
    "        <li> Use <code>hsv_select_live</code> to find the hsv threshold values of your drawn image.</li>\n",
    "        <li> Fill in the <code>hsv_lower</code> and <code>hsv_upper</code> values below. </li>\n",
    "        <li> Run the cell block. Your drawings should now be detected via contours.</li>\n",
    "        <li> Try it again with different drawings! </li>\n",
    "    </ul>\n",
    "    </p>\n",
    "    \n",
    "<p style='font-size:1.75rem;line-height:1.5'>\n",
    "    <b>Note:</b>\n",
    "    Make sure your white piece of paper fills the entire video image, else you might be detecting background images rather than your drawing!\n",
    "    </p>"
   ]
  },
  {
   "cell_type": "code",
   "execution_count": null,
   "metadata": {
    "scrolled": true
   },
   "outputs": [],
   "source": [
    "# TASK #1: Run this cell block to find the HSV lower and upper bounds for your drawn image!\n",
    "hsv_select_live()"
   ]
  },
  {
   "cell_type": "code",
   "execution_count": null,
   "metadata": {
    "scrolled": true
   },
   "outputs": [],
   "source": [
    "# TASK #2: Define the corresponding HSV bounds found from above!\n",
    "hsv_lower = (None, None, None)    # replace None with your values!\n",
    "hsv_upper = (None, None, None)    # replace None with your values!\n",
    "\n",
    "\n",
    "# Show video\n",
    "color_range = [hsv_lower, hsv_upper]\n",
    "def find_drawings(frame):\n",
    "    res, mask = detectDrawings(frame, color_range)\n",
    "    cv2.imshow('detected drawings', res)\n",
    "video(find_drawings)"
   ]
  }
 ],
 "metadata": {
  "kernelspec": {
   "display_name": "Python 2",
   "language": "python",
   "name": "python2"
  },
  "language_info": {
   "codemirror_mode": {
    "name": "ipython",
    "version": 2
   },
   "file_extension": ".py",
   "mimetype": "text/x-python",
   "name": "python",
   "nbconvert_exporter": "python",
   "pygments_lexer": "ipython2",
   "version": "2.7.16"
  }
 },
 "nbformat": 4,
 "nbformat_minor": 2
}

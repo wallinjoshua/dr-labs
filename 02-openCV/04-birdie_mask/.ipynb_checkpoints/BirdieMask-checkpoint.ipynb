{
 "cells": [
  {
   "cell_type": "code",
   "execution_count": 2,
   "metadata": {},
   "outputs": [],
   "source": [
    "# FIRST import all the necessary libraries and modules!\n",
    "import cv2               # import OpenCV\n",
    "import numpy as np       # import NumPy\n",
    "\n",
    "# import instructor made functions \n",
    "import sys\n",
    "sys.path.insert(0, '../..')\n",
    "from utils import *"
   ]
  },
  {
   "cell_type": "markdown",
   "metadata": {},
   "source": [
    "# Birdie Mask Lab\n",
    "\n",
    "<p style='font-size:1.75rem;line-height:1.5'>\n",
    "    One cool thing we can do with OpenCV is <b style=\"color:blue\">object detection</b>, in particular, <b style=\"color:red\">by colors</b>! \n",
    "    </p>\n",
    "\n",
    "<img src=\"mask_blue.png\" alt=\"mask_blue\" style=\"width: 100%;\"/>\n",
    "    \n",
    "<p style='font-size:1.75rem;line-height:1.5'>\n",
    "    In this lab, we will learn how to:\n",
    "    <ul style='font-size:1.75rem;line-height:2'>\n",
    "        <li>Find HSV color ranges using: <code>hsv_select</code></li>\n",
    "        <li>Mask an image using: <code>cv2.inRange</code></li>\n",
    "        <li>Mask multiple colors using bitwise image arithmetic operations:\n",
    "            <br> <code>cv2.bitwise_and</code>\n",
    "            <br> <code>cv2.bitwise_not</code>\n",
    "        </li>\n",
    "    </ul>\n",
    "</p>"
   ]
  },
  {
   "cell_type": "markdown",
   "metadata": {},
   "source": [
    "# Masks\n",
    "## What is a Mask?\n",
    "\n",
    "<p style='font-size:1.75rem;line-height:1.5'>\n",
    "    Masks are images. They tell the <b style=\"color:blue\">computer what to cover</b> and <b style=\"color:green\">what to show</b>.\n",
    "    </p>\n",
    "\n",
    "<p style='font-size:1.75rem;line-height:1.5'>\n",
    "    Consider the <b style=\"color:blue\">hacker mask</b> below. \n",
    "    <br> The only parts that are see-through are the eyes:\n",
    "    </p>\n",
    "    \n",
    "<img src=\"hacker_mask.jpg\" alt=\"hacker_mask\" style=\"width: 200px;\"/>\n",
    "\n",
    "<p style='font-size:1.75rem;line-height:1.5'>\n",
    "    So when we put that mask on a face... <b style=\"color:green\">Only the eyes show</b>!\n",
    "    </p>\n",
    "\n",
    "<img src=\"hacker_mask_eyes.jpg\" alt=\"hacker_mask_eyes\" style=\"width: 300px;\"/>\n",
    "\n",
    "<p style='font-size:1.75rem;line-height:1.5'>\n",
    "    Similar to the face mask above, <b style=\"color:brown\">OpenCV masks</b>: \n",
    "    <ul style='font-size:1.75rem;line-height:2'>\n",
    "        <li><b style=\"color:blue\">Cover parts of an image</b> with BLACK (aka the face mask)</li>\n",
    "        <li>Only allows <b style=\"color:green\">specific parts of an image</b> to show as NORMAL or WHITE (aka the eyes).</li>\n",
    "    </ul>\n",
    "    </p>\n",
    "    \n",
    "<p style='font-size:1.75rem;line-height:1.5'>\n",
    "    Below is an example of a masked image of a hand: \n",
    "    <br> Discuss! Which part is <b>masked</b>, and which part is <b>unmasked</b>?\n",
    "    </p>\n",
    "    \n",
    "<img src=\"mask_hand.png\" alt=\"mask_hand\" style=\"width: 400px;\"/>"
   ]
  },
  {
   "cell_type": "markdown",
   "metadata": {},
   "source": [
    "# Masks in OpenCV\n",
    "    \n",
    "<p style='font-size:1.75rem;line-height:1.5'>\n",
    "    On a mask, there can only be <b>2 values</b> in each pixel: <code>0</code> and <code>255</code>. \n",
    "    <br> When we <b>apply a mask</b> to an image, if the pixel value is: \n",
    "    <ul style='font-size:1.75rem;line-height:2'>\n",
    "        <li><code>0</code> (or <b style=\"color:blue\">False</b>), the pixel will be <b style=\"color:blue\">BLACK</b>.</li>\n",
    "        <li><code>255</code> (or <b style=\"color:green\">True</b>), the pixel <b style=\"color:green\">WILL SHOW / BE WHITE</b>.</li>\n",
    "    </ul>\n",
    "    </p>"
   ]
  },
  {
   "cell_type": "markdown",
   "metadata": {},
   "source": [
    "# HSV Masking\n",
    "\n",
    "<p style='font-size:1.75rem;line-height:1.5'>\n",
    "    <b style=\"color:#072F5F\">H</b><b style=\"color:#3895D3\">S</b><b style=\"color:#58CCED\">V</b> tends to be better for tracking an object by color than <b style=\"color:blue\">B</b><b style=\"color:green\">G</b><b style=\"color:red\">R</b>.\n",
    "    </p>\n",
    "<p style='font-size:1.75rem;line-height:1.5'>\n",
    "    <b>Why do you think this is?</b>\n",
    "    </p>\n",
    "<p style='font-size:1.75rem;line-height:1.5'>\n",
    "    We can mask video frames using lower and upper bounds for <b style=\"color:#072F5F\">hue (H)</b>, <b style=\"color:#3895D3\">saturation (S)</b>, and <b style=\"color:#58CCED\">value (V)</b> to track objects by their color.\n",
    "    </p>\n",
    "\n",
    "![HSV](hsv.png)\n",
    "\n",
    "<p style='font-size:2.25rem;line-height:1.5'>\n",
    "    <b style=\"color:red\">Exercise</b>\n",
    "    </p>\n",
    "<p style='font-size:1.75rem;line-height:1.5'>\n",
    "    <b>Run the code below</b>, and <b>move the HSV trackbar values around</b> to get familiar with how masks work. Press ESC to close the pop-up.\n",
    "    </p>\n",
    "    \n",
    "<p style='font-size:1.75rem;line-height:1.5'>\n",
    "    You should get a pop-up window that looks something like this:\n",
    "    </p>\n",
    "\n",
    "<img src=\"hsv_range_selector.png\" alt=\"hsv_range_selector\" style=\"width: 400px;\"/>"
   ]
  },
  {
   "cell_type": "code",
   "execution_count": 3,
   "metadata": {
    "scrolled": false
   },
   "outputs": [],
   "source": [
    "hsv_select('birdie.jpg')"
   ]
  },
  {
   "cell_type": "markdown",
   "metadata": {},
   "source": [
    "# Making a Mask"
   ]
  },
  {
   "cell_type": "markdown",
   "metadata": {},
   "source": [
    "<p style='font-size:1.75rem;line-height:1.5'>\n",
    "    <b style=\"color:magenta\">Different HSV values</b> affect the <b style=\"color:magenta\">types of colors</b> we mask!\n",
    "    </p>\n",
    "    \n",
    "<p style='font-size:1.75rem;line-height:1.5'>\n",
    "    We can <b>generate a mask</b> based on the color specified using the function <code>cv2.inRange</code>. This function takes in the <b style=\"color:blue\">image</b> and <b style=\"color:red\">lower</b>/<b style=\"color:green\">upper</b> bounds of the color we want to make a mask of. It has the following format: \n",
    "    </p>\n",
    "\n",
    "```python\n",
    "    mask = cv2.inRange(<image>, <hsv_lower>, <hsv_upper>)\n",
    "```\n",
    "\n",
    "<p style='font-size:2.25rem;line-height:1.5'>\n",
    "    <b style=\"color:red\">Exercise</b>\n",
    "    </p>\n",
    "<p style='font-size:1.75rem;line-height:1.5'>\n",
    "    Let's mask the birdie's feet!\n",
    "    </p>\n",
    "<p style='font-size:1.75rem;line-height:1.5'>\n",
    "    <b>Hint:</b> Use <code>hsv_select</code> to find the upper and lower HSV bounds!\n",
    "    </p>\n",
    "<p style='font-size:1.75rem;line-height:1.5'>\n",
    "    Your mask should look something like this:\n",
    "    </p>\n",
    "\n",
    "<img src=\"mask_birdie_feet.png\" alt=\"mask_birdie_feet\" style=\"width:100%;\"/>\n",
    "\n",
    "<p style='font-size:1.75rem;line-height:1.5'>\n",
    "    We're going to write and use a function to find the mask so that we can reuse our code.\n",
    "    </p>"
   ]
  },
  {
   "cell_type": "code",
   "execution_count": null,
   "metadata": {},
   "outputs": [],
   "source": [
    "# Run this function to find the HSV upper and lower bounds!\n",
    "hsv_select('birdie.jpg')"
   ]
  },
  {
   "cell_type": "code",
   "execution_count": null,
   "metadata": {},
   "outputs": [],
   "source": [
    "def mask_birdie(hsv_lower, hsv_upper):\n",
    "    # TASK 1: Read and save 'birdie.jpg'\n",
    "    \n",
    "    \n",
    "    # TASK 2: Use cv2.cvtColor to convert the image to HSV\n",
    "    \n",
    "    \n",
    "    # TASK 3: Create a mask for 'birdie.jpg' with cv2.inRange\n",
    "    \n",
    "    \n",
    "    # TASK 4: Return the mask\n",
    "    \n",
    "    \n",
    "# TASK 5: Find the HSV lower and upper bounds for the birdie's FEET\n",
    "hsv_lower_feet = (None, None, None)    # Replace None with integers!\n",
    "hsv_upper_feet = (None, None, None)    # Replace None with integers!\n",
    "\n",
    "# TASK 6: Call the mask_birdie function (pass in the HSV bounds above!)\n",
    "\n",
    "\n",
    "# TASK 7: Show the mask in a popup window\n",
    "\n",
    "\n",
    "# TASK 8: Close the window\n",
    "\n"
   ]
  },
  {
   "cell_type": "markdown",
   "metadata": {},
   "source": [
    "# Applying Masks via Bitwise Operations!"
   ]
  },
  {
   "cell_type": "markdown",
   "metadata": {},
   "source": [
    "<p style='font-size:1.75rem;line-height:1.5'>\n",
    "    Bitwise functions help us <b>create masks of two or more colors</b>! \n",
    "    </p>\n",
    "    \n",
    "<p style='font-size:1.75rem;line-height:1.5'>\n",
    "    <code>cv2.bitwise_and</code> show the <b style=\"color:green\">real colors</b> of a masked image. It has the following format:\n",
    "    </p>\n",
    "    \n",
    "```python\n",
    "    color_mask = cv2.bitwise_and(<image1>, <image2>, mask=<input_mask>)\n",
    "```\n",
    "    \n",
    "<p style='font-size:1.75rem;line-height:1.5'>\n",
    "    <code>cv2.bitwise_not</code> <b style=\"color:blue\">flips each pixel</b> in a mask (turning <b style=\"color:green\">True</b> -> <b style=\"color:red\">False</b> and <b style=\"color:red\">False</b> -> <b style=\"color:green\">True</b>). This helps us <b>control the colors we want to show</b>. It has the following format: \n",
    "    </p>\n",
    "    \n",
    "```python\n",
    "    inv_mask = cv2.bitwise_not(<mask_to_invert>)\n",
    "```\n",
    "    \n",
    "<p style='font-size:1.75rem;line-height:1.5'>\n",
    "    Below are examples of different bitwise functions, and how they affect images.  \n",
    "    </p>"
   ]
  },
  {
   "cell_type": "markdown",
   "metadata": {},
   "source": [
    "<img src=\"mask_bitwise_examples.jpg\" alt=\"mask_bitwise_examples\" style=\"width:400px;\"/>        "
   ]
  },
  {
   "cell_type": "markdown",
   "metadata": {},
   "source": [
    "# Applying the Mask: `cv2.bitwise_and`"
   ]
  },
  {
   "cell_type": "markdown",
   "metadata": {},
   "source": [
    "<p style='font-size:1.75rem;line-height:1.5'>\n",
    "    We can use <code>cv2.bitwise_and</code> to create a new image where <b style=\"color:green\">True</b> pixels on the mask will show <b style=\"color:green\">real colors</b>. \n",
    "    </p>"
   ]
  },
  {
   "cell_type": "markdown",
   "metadata": {},
   "source": [
    "<p style='font-size:2.25rem;line-height:1.5'>\n",
    "    <b style=\"color:red\">Exercise</b>\n",
    "    </p>\n",
    "<p style='font-size:1.75rem;line-height:1.5'>\n",
    "    Use <code>cv2.bitwise_and</code> to mask <code>birdie.jpg</code> to get its <b style=\"color:green\">real colors</b>! \n",
    "    </p>\n",
    "\n",
    "<p style='font-size:1.75rem;line-height:1.5'>\n",
    "    Your mask should look something like this:\n",
    "    </p>"
   ]
  },
  {
   "cell_type": "markdown",
   "metadata": {},
   "source": [
    "<img src=\"mask_bitwiseand_birdiefeet.png\" alt=\"mask_bitwiseand_birdiefeet\" style=\"width:100%;\"/> "
   ]
  },
  {
   "cell_type": "markdown",
   "metadata": {},
   "source": [
    "<p style='font-size:1.75rem;line-height:1.5'>\n",
    "    Useful Notes:\n",
    "     <ul style='font-size:1.75rem;line-height:2'>\n",
    "        <li>Inputs <code>&lt;image1&gt;</code> and <code>&lt;image2&gt;</code> should be the SAME image. Use the original <code>img</code>.</li>\n",
    "        <li>Use our masked birdie feet from the previous exercise as the input mask for:\n",
    "            <br> <code>mask=&lt;input_mask&gt;</code> </li>\n",
    "     </ul>\n",
    "    </p>"
   ]
  },
  {
   "cell_type": "code",
   "execution_count": null,
   "metadata": {},
   "outputs": [],
   "source": [
    "def color_mask_birdie(mask):\n",
    "    # TASK 1: Read 'birdie.jpg'\n",
    "    img = cv2.imread('birdie.jpg')\n",
    "    \n",
    "    # TASK 2: Use cv2.bitwise_and to create a color mask\n",
    "    \n",
    "    \n",
    "    # TASK 3: Return the color mask\n",
    "    \n",
    "    \n",
    "# TASK 4: Use the color_mask_birdie function to create a color mask\n",
    "#         Hint: Use the same mask you created before from \"Making a Mask\"! (It should still be saved)\n",
    "\n",
    "\n",
    "# TASK 5: Show the color mask in a popup window\n",
    "\n",
    "\n",
    "# TASK 6: Close the window\n",
    "\n"
   ]
  },
  {
   "cell_type": "markdown",
   "metadata": {},
   "source": [
    "# Inverting the Mask: `cv2.bitwise_not`"
   ]
  },
  {
   "cell_type": "markdown",
   "metadata": {},
   "source": [
    "<p style='font-size:2.25rem;line-height:1.5'>\n",
    "    <b style=\"color:red\">Exercise</b>\n",
    "    </p>\n",
    "<p style='font-size:1.75rem;line-height:1.5'>\n",
    "    Now let's reverse, or <strong>invert</strong> the mask using <code>cv2.bitwise_not</code> so we get the real color of the <b>background instead of the birdie</b>!\n",
    "    </p>\n",
    "    \n",
    "<p style='font-size:1.75rem;line-height:1.5'>\n",
    "    <b>Hint:</b> Use the combined mask you made in the Combining Masks exercise!\n",
    "    </p>\n",
    "\n",
    "<p style='font-size:1.75rem;line-height:1.5'>\n",
    "    Your mask should look something like this:\n",
    "    </p>\n",
    "    \n",
    "<img src=\"mask_bitwisenot_birdiebody.png\" alt=\"mask_bitwisenot_birdiebody\" style=\"width:400px;\"/>   "
   ]
  },
  {
   "cell_type": "code",
   "execution_count": null,
   "metadata": {},
   "outputs": [],
   "source": [
    "# Make sure to run the previous cell blocks first!\n",
    "# TASK 1: Use cv2.bitwise_not to invert the mask. Use the mask you made from \"Making a Mask\".\n",
    "\n",
    "\n",
    "# TASK 2: Use color_mask_birdie to show the real colors\n",
    "\n",
    "\n",
    "# TASK 3: Show the masked image in a popup window\n",
    "\n",
    "\n",
    "# TASK 4: Close the window \n",
    "\n"
   ]
  },
  {
   "cell_type": "markdown",
   "metadata": {},
   "source": [
    "<p style='font-size:1.75rem;line-height:1.5'>\n",
    "    <b style=\"color:green\">CONGRATS!!!</b> You can now pick out colors from images!\n",
    "    </p>\n",
    "<p style='font-size:1.75rem;line-height:1.5'>\n",
    "    In the next lab, using the tools we've learned so far, we will make our very own <b style=\"color:green\">green screens</b>! \n",
    "    </p>"
   ]
  }
 ],
 "metadata": {
  "kernelspec": {
   "display_name": "Python 3",
   "language": "python",
   "name": "python3"
  },
  "language_info": {
   "codemirror_mode": {
    "name": "ipython",
    "version": 3
   },
   "file_extension": ".py",
   "mimetype": "text/x-python",
   "name": "python",
   "nbconvert_exporter": "python",
   "pygments_lexer": "ipython3",
   "version": "3.8.5"
  }
 },
 "nbformat": 4,
 "nbformat_minor": 2
}

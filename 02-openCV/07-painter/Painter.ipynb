{
 "cells": [
  {
   "cell_type": "code",
   "execution_count": null,
   "metadata": {},
   "outputs": [],
   "source": [
    "# FIRST import all the necessary libraries and modules!\n",
    "import cv2               # import OpenCV\n",
    "import numpy as np       # import NumPy\n",
    "\n",
    "# import instructor made functions \n",
    "import sys\n",
    "sys.path.insert(0, '../..')\n",
    "from utils import *      "
   ]
  },
  {
   "cell_type": "markdown",
   "metadata": {},
   "source": [
    "# Painter Lab\n",
    "\n",
    "<p style='font-size:1.75rem;line-height:1.5'>\n",
    "    Let's learn how to <b style=\"color:magenta\">paint on live video</b> using colored objects! \n",
    "    <br>To do this, we will need to combine everything we've learned so far: <b style=\"color:blue\">drawing</b>, <b style=\"color:green\">color tracking</b>, and <b style=\"color:orange\">contours</b>!\n",
    "</p>\n",
    "\n",
    "![multiple draw](multiple_draw.png)"
   ]
  },
  {
   "cell_type": "markdown",
   "metadata": {},
   "source": [
    "# HSV Masking\n",
    "    \n",
    "<p style='font-size:1.75rem;line-height:1.5'>\n",
    "    <b style=\"color:#072F5F\">H</b><b style=\"color:#3895D3\">S</b><b style=\"color:#58CCED\">V</b> tends to be better for tracking an object by color than <b style=\"color:blue\">B</b><b style=\"color:green\">G</b><b style=\"color:red\">R</b>. \n",
    "    <br> Do you remember why this is? <b>Discuss with your partner!</b>\n",
    "    </p>\n",
    "<p style='font-size:1.75rem;line-height:1.5'>\n",
    "    We can mask video frames using lower and upper bounds for <b style=\"color:#072F5F\">hue (H)</b>, <b style=\"color:#3895D3\">saturation (S)</b>, and <b style=\"color:#58CCED\">value (V)</b> to track objects by their color.\n",
    "    </p>\n",
    "\n",
    "![HSV](hsv.png)"
   ]
  },
  {
   "cell_type": "markdown",
   "metadata": {},
   "source": [
    "# Isolating Objects\n",
    "\n",
    "<p style='font-size:1.75rem;line-height:1.5'>\n",
    "    First, we need to <b style=\"color:green\">detect the colored objects</b> we will be drawing with! \n",
    "    </p>\n",
    "\n",
    "<p style='font-size:1.75rem;line-height:1.5'>\n",
    "    Here is an example of a <b style=\"color:green\">GOOD MASK</b>:\n",
    "    </p>\n",
    "\n",
    "![hsv_good_example](hsv_good_example.png)\n",
    "\n",
    "<p style='font-size:1.75rem;line-height:1.5'>\n",
    "    Here is an example of a <b style=\"color:blue\">BAD MASK</b>:\n",
    "    </p>\n",
    "\n",
    "<img src=\"bad_mask.jpg\" width=\"350\" height=\"450\"/>\n",
    "\n",
    "<p style='font-size:1.75rem;line-height:1.5'>\n",
    "    <b style=\"color:red\">Exercise:</b>\n",
    "    <ul style='font-size:1.75rem;line-height:2'>\n",
    "        <li>For <b>EACH colored object</b>, use <code>hsv_select_live()</code> to <b>select HSV upper/lower bounds</b> so that only the object's color is visible. Everything else should be MASKED/BLACK. </li>\n",
    "        <li>Once you have good HSV limits, <b>write them down</b>! We will need them later.</li>\n",
    "        <li><b>Make sure that you have a webcam connected to your laptop!</b></li>\n",
    "    </ul>\n",
    "    </p>\n",
    "    "
   ]
  },
  {
   "cell_type": "code",
   "execution_count": null,
   "metadata": {},
   "outputs": [],
   "source": [
    "hsv_select_live()"
   ]
  },
  {
   "cell_type": "markdown",
   "metadata": {},
   "source": [
    "# Masking the Video\n",
    "\n",
    "<p style='font-size:1.75rem;line-height:1.5'>\n",
    "    <b style=\"color:red\">Exercise:</b>\n",
    "    <br> Let's create a function that <b style=\"color:green\">returns a masked frame</b> using input HSV values:\n",
    "    <ol style='font-size:1.75rem;line-height:2'>\n",
    "        <li><b>Convert our frames</b> from <b style=\"color:blue\">B</b><b style=\"color:green\">G</b><b style=\"color:red\">R</b> to <b style=\"color:#072F5F\">H</b><b style=\"color:#3895D3\">S</b><b style=\"color:#58CCED\">V</b> via <code>cv2.cvtColor</code></li>\n",
    "        <li>Use <code>cv2.inRange</code> to <b>create a mask</b> using the given inputs\n",
    "    </ol>\n",
    "    </p>"
   ]
  },
  {
   "cell_type": "code",
   "execution_count": null,
   "metadata": {},
   "outputs": [],
   "source": [
    "def mask_frame(frame, hsv_lower, hsv_upper):\n",
    "    # TASK #1: Convert \"frame\" to from BGR to HSV using cv2.cvtColor\n",
    "    \n",
    "    \n",
    "    # TASK #2: Mask the frame using cv2.inRange, with \"hsv_lower\" and \"hsv_upper\" as inputs\n",
    "    # Assume hsv_lower and hsv_upper are the correct data types!\n",
    "    \n",
    "    \n",
    "    # TASK #3: Return the mask\n",
    "    \n",
    "    "
   ]
  },
  {
   "cell_type": "markdown",
   "metadata": {},
   "source": [
    "<p style='font-size:1.75rem;line-height:1.5'>\n",
    "    <b style=\"color:red\">Exercise:</b>\n",
    "    <br>Let's <b style=\"color:green\">test our mask</b> on a colored object! \n",
    "    <br>Set <code>hsv_lower</code> and <code>hsv_upper</code> <b>using the values you recorded</b> for one of your colored objects.\n",
    "    </p>"
   ]
  },
  {
   "cell_type": "code",
   "execution_count": null,
   "metadata": {},
   "outputs": [],
   "source": [
    "# TASK: Define the color ranges for your object\n",
    "hsv_lower = (None, None, None)    # Replace NONE with integers!\n",
    "hsv_upper = (None, None, None)    # Replace NONE with integers!"
   ]
  },
  {
   "cell_type": "markdown",
   "metadata": {},
   "source": [
    "<p style='font-size:1.75rem;line-height:1.5'>\n",
    "    <b style=\"color:red\">Run the code below</b> to see your mask work in real time!\n",
    "    </p>\n",
    "    \n",
    "<p style='font-size:1.75rem;line-height:1.5'>\n",
    "    It should look something like this:\n",
    "    </p>\n",
    "\n",
    "![mask](mask.png)"
   ]
  },
  {
   "cell_type": "code",
   "execution_count": null,
   "metadata": {},
   "outputs": [],
   "source": [
    "def show_mask(frame):\n",
    "    mask = mask_frame(frame, hsv_lower, hsv_upper)  # calculates the mask\n",
    "    cv2.imshow('Mask', mask)                        # displays the mask\n",
    "\n",
    "video(show_mask)"
   ]
  },
  {
   "cell_type": "markdown",
   "metadata": {},
   "source": [
    "# Finding Contours\n",
    "\n",
    "<p style='font-size:1.75rem;line-height:1.5'>\n",
    "    We can <b style=\"color:green\">track the location of your colored object</b> using contours. \n",
    "    <br>We can calculate a list of contours based on a given mask&nbsp;like this:\n",
    "    </p>\n",
    "\n",
    "```python\n",
    "contours = cv2.findContours(mask, 3, 2)[1]\n",
    "```\n",
    "\n",
    "<p style='font-size:1.75rem;line-height:1.5'>\n",
    "    <b style=\"color:red\">Exercise:</b>\n",
    "    <br>In the function below, find and return the <b>list of all contours</b>.\n",
    "    </p>"
   ]
  },
  {
   "cell_type": "code",
   "execution_count": null,
   "metadata": {},
   "outputs": [],
   "source": [
    "def find_contours(mask):\n",
    "    # TASK #1: Find all contours\n",
    "    \n",
    "    \n",
    "    # TASK #2: Return the list of contours\n",
    "    \n",
    "    "
   ]
  },
  {
   "cell_type": "markdown",
   "metadata": {},
   "source": [
    "<p style='font-size:1.75rem;line-height:1.5'>\n",
    "    <b style=\"color:red\">Run the code block below</b> to see your contours drawn on the frame!\n",
    "    </p>\n",
    "\n",
    "<p style='font-size:1.75rem;line-height:1.5'>\n",
    "    It should look similar to this:\n",
    "    </p>\n",
    "\n",
    "![contours](contours.png)"
   ]
  },
  {
   "cell_type": "code",
   "execution_count": null,
   "metadata": {},
   "outputs": [],
   "source": [
    "def show_contours(frame):\n",
    "    mask = mask_frame(frame, hsv_lower, hsv_upper)             # calculates the mask\n",
    "    contours = find_contours(mask)                         # finds the contours\n",
    "    cv2.drawContours(frame, contours, -1, (0, 255, 0), 3)  # draw contours over the frame\n",
    "    cv2.imshow('Contours', frame)\n",
    "\n",
    "video(show_contours)"
   ]
  },
  {
   "cell_type": "markdown",
   "metadata": {},
   "source": [
    "# Isolating Object Contour"
   ]
  },
  {
   "cell_type": "markdown",
   "metadata": {},
   "source": [
    "<p style='font-size:1.75rem;line-height:1.5'>\n",
    "    As you can see, there are <b>extra contours :(</b> \n",
    "    <br> <b style=\"color:green\">We just want ONE contour</b> for our colored object! \n",
    "    </p>\n",
    "\n",
    "<p style='font-size:1.75rem;line-height:1.5'>\n",
    "    Let's only consider contours with area <b>larger than <code>1000</code> pixels.</b> \n",
    "    <br>We can find the <b style=\"color:green\">area of a single contour</b> like this:\n",
    "    </p>\n",
    "\n",
    "```python\n",
    "area = cv2.contourArea(contour)\n",
    "```\n",
    "\n",
    "<p style='font-size:1.75rem;line-height:1.5'>\n",
    "    <b style=\"color:red\">Exercise:</b>\n",
    "    <br>Fill in the function below to return only contours larger than 1000 pixels:\n",
    "    <ul style='font-size:1.75rem;line-height:2'>\n",
    "        <li><b>Consider the largest contour</b> with an area greater than <code>1000</code> to be our object contour.</li>\n",
    "        <li>If there is <b>no such contour</b>, return <code>None</code>.</li>\n",
    "    </ul>\n",
    "    </p>"
   ]
  },
  {
   "cell_type": "code",
   "execution_count": null,
   "metadata": {},
   "outputs": [],
   "source": [
    "def object_contour(mask):\n",
    "    contours = find_contours(mask)  # finds and saves all the contours\n",
    "    obj_contour = None              # keeps track of object contour (if unchanged, function will return None)\n",
    "    max_area = 0                    # keeps track of maximum area\n",
    "    \n",
    "    if len(contours) > 0:\n",
    "        for contour in contours:\n",
    "            # TASK #1: Find and save the area using cv2.contourArea\n",
    "            \n",
    "            \n",
    "            # TASK #2: If area is larger than 1000 AND area is larger than max_area,\n",
    "            # save the current contour in obj_contour, and update max_area\n",
    "            \n",
    "                \n",
    "                \n",
    "    \n",
    "    # TASK #3: Return the object contour\n",
    "    \n",
    "    "
   ]
  },
  {
   "cell_type": "markdown",
   "metadata": {},
   "source": [
    "<p style='font-size:1.75rem;line-height:1.5'>\n",
    "    <b style=\"color:red\"> Run the code below</b> to display this contour!\n",
    "<p>\n",
    "    \n",
    "<p style='font-size:1.75rem;line-height:1.5'>\n",
    "    It should look similar to this:\n",
    "<p>\n",
    "    \n",
    "![object contour](obj_contour.png)"
   ]
  },
  {
   "cell_type": "code",
   "execution_count": null,
   "metadata": {},
   "outputs": [],
   "source": [
    "def show_object_contour(frame):\n",
    "    mask = mask_frame(frame, hsv_lower, hsv_upper)                  # calculates the mask\n",
    "    obj_contour = object_contour(mask)                              # finds the object contour\n",
    "    if obj_contour is not None:                                     # if the contour exists,\n",
    "        cv2.drawContours(frame, [obj_contour], -1, (0, 255, 0), 3)  # draws the contour\n",
    "    cv2.imshow('Object Contour', frame)\n",
    "\n",
    "video(show_object_contour)"
   ]
  },
  {
   "cell_type": "markdown",
   "metadata": {},
   "source": [
    "# Smallest Enclosing Circle"
   ]
  },
  {
   "cell_type": "markdown",
   "metadata": {},
   "source": [
    "<p style='font-size:1.75rem;line-height:1.5'>\n",
    "    The instructor-made functions <code>find_center(&lt;contour&gt;)</code> and <code>find_radius(&lt;contour&gt;)</code> find the <b style=\"color:green\">center coordinates</b> and <b style=\"color:green\">radius of the smallest circle</b> that fits around our object.\n",
    "    </p>\n",
    "\n",
    "<p style='font-size:1.75rem;line-height:1.5'>\n",
    "    <b style=\"color:red\">Exercise:</b>\n",
    "    <br> Using these functions, <b>draw a circle around the object</b>. \n",
    "    <br> Choose the <b>color</b> and <b>thickness</b> of the circle yourself!\n",
    "    </p>"
   ]
  },
  {
   "cell_type": "code",
   "execution_count": null,
   "metadata": {},
   "outputs": [],
   "source": [
    "def draw_circle(frame, contour):\n",
    "    # TASK #1: Find and save the center using find_center\n",
    "    \n",
    "\n",
    "    # TASK #2: Find and save the radius using find_radius\n",
    "    \n",
    "\n",
    "    # TASK #3: Draw a circle (on the frame) that encloses the object using cv2.circle\n",
    "    \n",
    "    "
   ]
  },
  {
   "cell_type": "markdown",
   "metadata": {},
   "source": [
    "<p style='font-size:1.75rem;line-height:1.5'>\n",
    "    <b style=\"color:red\">Run the code below</b> to see your circle drawn on the frame in real time!\n",
    "</p>\n",
    "\n",
    "<p style='font-size:1.75rem;line-height:1.5'>\n",
    "    It should look like this:\n",
    "</p>\n",
    "\n",
    "![circle](circle.png)"
   ]
  },
  {
   "cell_type": "code",
   "execution_count": null,
   "metadata": {},
   "outputs": [],
   "source": [
    "def display_circle(frame):\n",
    "    mask = mask_frame(frame, hsv_lower, hsv_upper)  # calculates the mask\n",
    "    contour = object_contour(mask)                  # find the object contour\n",
    "    if contour is not None:                         # if the contour exists\n",
    "        draw_circle(frame, contour)                 # draws circle around object\n",
    "    cv2.imshow('Circle Tracking', frame)\n",
    "\n",
    "video(display_circle)"
   ]
  },
  {
   "cell_type": "markdown",
   "metadata": {},
   "source": [
    "# Drawing with an Object"
   ]
  },
  {
   "cell_type": "markdown",
   "metadata": {},
   "source": [
    "<p style='font-size:1.75rem;line-height:1.5'>\n",
    "    In the <code>draw</code> function below, we will:\n",
    "    <ol style='font-size:1.75rem;line-height:2'>\n",
    "        <li><b style=\"color:green\">Draw a line</b> from the previous position of our object to the current position.</li>\n",
    "        <li><b style=\"color:green\">Save our lines</b> in a list.</li>\n",
    "        <li><b style=\"color:green\">Draw the saved lines</b> one EVERY frame (otherwise, they will disappear).</li>\n",
    "        <li><b style=\"color:green\">Save</b> the start coordinates, stop coordinates, and color of each line.</li>\n",
    "    </ol>\n",
    "    </p>\n",
    "\n",
    "<p style='font-size:1.75rem;line-height:1.5'>\n",
    "    <b style=\"color:red\">Exercise:</b>\n",
    "    <br> <b>Fill in the <code>draw</code> function</b> below to draw with your object!\n",
    "    </p>\n"
   ]
  },
  {
   "cell_type": "code",
   "execution_count": null,
   "metadata": {},
   "outputs": [],
   "source": [
    "def draw(frame, contour, color, prev_pos):\n",
    "    prev_x = prev_pos[0]                # gets px from prev_pos\n",
    "    prev_y = prev_pos[1]                # gets py from prev_pos\n",
    "    drawing = prev_pos != [-1, -1]      # True if we are already drawing\n",
    "    \n",
    "    if contour is not None:\n",
    "        draw_circle(frame, contour)     # displays circle around object\n",
    "        \n",
    "        # TASK #1: Find and save the center coordinates using find_center\n",
    "        \n",
    "        \n",
    "        # TASK #2: The center is a tuple of the form (x, y)\n",
    "        # Use indexing to find and save x and y\n",
    "        \n",
    "        \n",
    "        # TASK #3: If we are already drawing (use an if statement)\n",
    "        \n",
    "        \n",
    "            # TASK #4: Append to lines list a tuple of: (previous coordinates, current coordinates, color)\n",
    "            # Hint: Use (prev_x,prev_y) for previous coords, (x,y) for current coords, and use the input color\n",
    "            # Hint: Assume \"lines\" is a given list\n",
    "            \n",
    "            \n",
    "            # TASK #5: Update prev_x and prev_y\n",
    "            \n",
    "            \n",
    "            \n",
    "        # TASK #6: If we are not drawing (use an elif or else statement)\n",
    "        \n",
    "        \n",
    "            # TASK #7: Change the drawing variable\n",
    "            # Hint: If we see the object, should we be drawing or not drawing?\n",
    "            \n",
    "            \n",
    "            # TASK #8: Update prev_x and prev_y\n",
    "            \n",
    "            \n",
    "             \n",
    "    else:\n",
    "        # TASK #9: Change the drawing variable\n",
    "        # Hint: if we no longer see the object, should we be drawing or not drawing?\n",
    "        \n",
    "        \n",
    "    # updates prev_pos based on drawing variable, prev_x, and prev_y\n",
    "    if drawing == False:\n",
    "        prev_pos[0] = -1\n",
    "        prev_pos[1] = -1\n",
    "    else:\n",
    "        prev_pos[0] = prev_x\n",
    "        prev_pos[1] = prev_y"
   ]
  },
  {
   "cell_type": "markdown",
   "metadata": {},
   "source": [
    "<p style='font-size:1.75rem;line-height:1.5'>\n",
    "    <b style=\"color:red\">Exercise:</b>\n",
    "    <br> In the function below, call <code>draw</code> on a <b>color of your choice</b>! \n",
    "    <br> Then <b>draw the lines</b> saved in <code>lines</code> onto the frame.\n",
    "    </p>"
   ]
  },
  {
   "cell_type": "code",
   "execution_count": null,
   "metadata": {},
   "outputs": [],
   "source": [
    "lines = []           # stores the lines\n",
    "prev_pos = [-1, -1]  # stores previous position (starts in not already drawing state)\n",
    "\n",
    "def show_draw(frame):\n",
    "    mask = mask_frame(frame, hsv_lower, hsv_upper)   # calculates the mask\n",
    "    contour = object_contour(mask)                   # finds the object contour\n",
    "    \n",
    "    # TASK #1: Choose and save a color of your choice\n",
    "    \n",
    "    \n",
    "    draw(frame, contour, color, prev_pos)        # calls draw using chosen color\n",
    "    \n",
    "    for line in lines:\n",
    "        # TASK #2: Draw each line using the (previous position, current position, and color) we stored in \"line\"\n",
    "        # Choose the line thickness yourself! Use cv2.line and the line list.\n",
    "        \n",
    "        \n",
    "    cv2.imshow('Draw', frame)"
   ]
  },
  {
   "cell_type": "markdown",
   "metadata": {},
   "source": [
    "<p style='font-size:1.75rem;line-height:1.5'>\n",
    "    <b style=\"color:red\">Run the code below</b>. You should be able to draw on top of the video with your object!\n",
    "    <p>\n",
    "        \n",
    "<p style='font-size:1.75rem;line-height:1.5'>\n",
    "    It should look something like this:\n",
    "    <p>\n",
    "\n",
    "![draw](draw.png)"
   ]
  },
  {
   "cell_type": "code",
   "execution_count": null,
   "metadata": {},
   "outputs": [],
   "source": [
    "lines = []        # reset lines list\n",
    "video(show_draw)"
   ]
  },
  {
   "cell_type": "markdown",
   "metadata": {},
   "source": [
    "# BONUS: Drawing with Multiple Objects"
   ]
  },
  {
   "cell_type": "markdown",
   "metadata": {},
   "source": [
    "<p style='font-size:1.75rem;line-height:1.5'>\n",
    "    <b style=\"color:red\">Exercise:</b>\n",
    "    <br> To <b style=\"color:green\">draw with multiple objects</b>, we need to:\n",
    "    <ul style='font-size:1.75rem;line-height:2'>\n",
    "        <li><b>initialize <code>prev_pos</code></b></li>\n",
    "        <li><b>store the HSV limits</b> for each object.</li>\n",
    "    </ul>\n",
    "    </p>"
   ]
  },
  {
   "cell_type": "code",
   "execution_count": null,
   "metadata": {},
   "outputs": [],
   "source": [
    "# TASK #1: Replace <color1> with name of first color\n",
    "<color1>_prev_pos = [-1, -1]\n",
    "\n",
    "# TASK #2: Replace <h_min>, <s_min>, etc. with your values\n",
    "<color1>_hsv_lower = np.array([<h_lower>, <s_lower>, <v_lower>])\n",
    "<color1>_hsv_upper = np.array([<h_upper>, <s_upper>, <v_upper>])\n",
    "\n",
    "# TASK #3: Repeat TASKS #1 and #2 with EACH COLOR you are using\n",
    "\n"
   ]
  },
  {
   "cell_type": "markdown",
   "metadata": {},
   "source": [
    "<p style='font-size:1.75rem;line-height:1.5'>\n",
    "    <b style=\"color:red\">Exercise:</b>\n",
    "    <br> Now we need to update <code>show_draw</code> to <b>include multiple colors</b>.\n",
    "    </p>"
   ]
  },
  {
   "cell_type": "code",
   "execution_count": null,
   "metadata": {
    "scrolled": true
   },
   "outputs": [],
   "source": [
    "def show_draw(frame):\n",
    "    # TASK #1: Replace <color1> with your first color.\n",
    "    <color1>_color =\n",
    "    <color1>_mask = mask_frame(frame, <color1>_hsv_lower, <color1>_hsv_upper)  # calculates the mask\n",
    "    <color1>_contour = object_contour(<color1>_mask)                           # finds the object contour\n",
    "    draw(frame, <color1>_contour, <color1>_color, <color1>_prev_pos)           # calls draw for this color\n",
    "    \n",
    "    # TASK #2: Repeat TASK #1 with EACH COLOR you are using\n",
    "    \n",
    "    \n",
    "    \n",
    "    \n",
    "    for line in lines:\n",
    "        # TASK #3: Draw each line using the (previous position, current position, and color) we stored in \"line\"\n",
    "        # Choose the line thickness yourself! Use cv2.line and the line list.\n",
    "        \n",
    "        \n",
    "    cv2.imshow('Multiple Draw', frame)"
   ]
  },
  {
   "cell_type": "markdown",
   "metadata": {},
   "source": [
    "<p style='font-size:1.75rem;line-height:1.5'>\n",
    "    <b style=\"color:red\">Run the code below</b>. Each object should now draw a different color!\n",
    "    <p>\n",
    "        \n",
    "<p style='font-size:1.75rem;line-height:1.5'>\n",
    "    It should look something like this:\n",
    "    <p>\n",
    "\n",
    "![multiple draw](multiple_draw.png)"
   ]
  },
  {
   "cell_type": "code",
   "execution_count": null,
   "metadata": {
    "scrolled": true
   },
   "outputs": [],
   "source": [
    "lines = []        # reset lines list\n",
    "video(show_draw)"
   ]
  },
  {
   "cell_type": "markdown",
   "metadata": {},
   "source": [
    "## Bonus Challenge Ideas!!!!!\n",
    "- Add more colors!!!!!\n",
    "\n",
    "### Make a mask for a color \"tool\" that, when introduced in frame, \n",
    "- switches/cycles through colors! So you can have one tool for multiple colors\n",
    "- stops the drawing so that you can reposition your paintbrush without covering it or moving it off the screen\n",
    "- changes your drawings from lines to shapes! (circles, rectangles)\n",
    "\n",
    "\n"
   ]
  }
 ],
 "metadata": {
  "kernelspec": {
   "display_name": "Python 2",
   "language": "python",
   "name": "python2"
  },
  "language_info": {
   "codemirror_mode": {
    "name": "ipython",
    "version": 2
   },
   "file_extension": ".py",
   "mimetype": "text/x-python",
   "name": "python",
   "nbconvert_exporter": "python",
   "pygments_lexer": "ipython2",
   "version": "2.7.16"
  }
 },
 "nbformat": 4,
 "nbformat_minor": 2
}

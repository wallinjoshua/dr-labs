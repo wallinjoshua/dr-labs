{
 "cells": [
  {
   "cell_type": "code",
   "execution_count": null,
   "metadata": {},
   "outputs": [],
   "source": [
    "# FIRST import all the necessary libraries and modules!\n",
    "import cv2               # import OpenCV\n",
    "import numpy as np       # import NumPy\n",
    "\n",
    "# import instructor made functions \n",
    "import sys\n",
    "sys.path.insert(0, '../..')\n",
    "from utils import *"
   ]
  },
  {
   "cell_type": "markdown",
   "metadata": {},
   "source": [
    "#  Edge Detection Lab\n",
    "\n",
    "## What is Edge Detection?\n",
    "\n",
    "<p style='font-size:1.75rem;line-height:1.5'>\n",
    "    Computers can use cameras to <b style=\"color:blue\">find boundaries between items</b> and identify objects. This is the basic idea of <b style=\"color:blue\">edge detection</b>. Lets dive into how we can identify our <b style=\"color:green\">e</b><b style=\"color:blue\">d</b><b style=\"color:indigo\">g</b><b style=\"color:violet\">y</b> friends.\n",
    "\n",
    "<p style='font-size:1.75rem;line-height:1.5'>\n",
    "In this lab, we will learn how to detect edges and lines using:\n",
    "    <ul style='font-size:1.75rem;line-height:2'>\n",
    "        <li>Sobel Detection</li>\n",
    "        <li>Canny Edge Detection</li>\n",
    "        <li>Hough Line Transforms</li>\n",
    "    </ul>\n",
    "    </p>\n"
   ]
  },
  {
   "cell_type": "markdown",
   "metadata": {},
   "source": [
    "## Sobel Detection"
   ]
  },
  {
   "cell_type": "markdown",
   "metadata": {},
   "source": [
    "<p style='font-size:1.75rem;line-height:1.5'>\n",
    "    Sobel detection <b style=\"color:green\">identifies horizontal and vertical lines</b>. Depending on what parameters you use, this function will <b style=\"color:green\">output a black and white image</b>, highlighting either the horizontal or vertical lines detected in the image.\n",
    "    </p>\n",
    "    \n",
    "<p style='font-size:1.75rem;line-height:1.5'>\n",
    "The Sobel function has the following format:\n",
    "    </p>\n",
    "    \n",
    "```python\n",
    "res = cv2.Sobel(<image>, cv2.CV_64F, <show_vertical>, <show_horizontal>, ksize=5)\n",
    "```\n",
    "\n",
    "<p style='font-size:1.75rem;line-height:1.5'>\n",
    "    We will be applying Sobel on <code>sudoku.png</code>:\n",
    "    </p>\n",
    "    \n",
    "<img src=\"sudoku.png\" alt=\"sudoku\" style=\"width: 300px;\"/>\n",
    "\n",
    "<p style='font-size:1.75rem;line-height:1.5'>\n",
    "    <code>cv2.Sobel()</code> takes in <b style=\"color:blue\">5 parameters</b>:\n",
    "    </p>\n",
    "\n",
    "|  Param            | Significance                                 |\n",
    "| ----------------- |:--------------------------------------------:|\n",
    "| `image`             | Image you're feeding in                      |\n",
    "| `cv2.CV_64F`      | Specifies output image depth                 |\n",
    "| `1` or `0`        | Specifies if vertical lines are highlighted. 1 means yes, 0 means no |\n",
    "| `1` or `0`        | Specifies if horizontal lines are highlighted. 1 means yes, 0 means no |\n",
    "| `ksize = 5`       | Size of Sobel kernel (can either be 1,3,5,7) |\n",
    "\n",
    "<p style='font-size:1.75rem;line-height:1.5'>\n",
    "    Notice that the <code>1</code> (True) and <code>0</code> (False) differentiates between what <b style=\"color:blue\">direction the lines are highlighted.</b> \n",
    "    </p>\n",
    "    "
   ]
  },
  {
   "cell_type": "markdown",
   "metadata": {},
   "source": [
    "<p style='font-size:1.75rem;line-height:1.5'>\n",
    "    <b style=\"color:red\">Exercise:</b> \n",
    "    <br> Apply Sobel detection on <code>sudoku.png</code> so that <b style=\"color:green\">horizontal lines</b> are detected.\n",
    "    </p>\n",
    "\n",
    "<p style='font-size:1.75rem;line-height:1.5'>\n",
    "    The result should look something like this:\n",
    "    </p>\n",
    "    \n",
    "<img src=\"sudoku_sobel_horizontal.png\" alt=\"sudoku_sobel_horizontal\" style=\"width: 300px;\"/>"
   ]
  },
  {
   "cell_type": "code",
   "execution_count": null,
   "metadata": {},
   "outputs": [],
   "source": [
    "# TASK #1: Read the image 'sudoku.png'\n",
    "\n",
    "\n",
    "# TASK #2: Call the Sobel function. Detect only HORIZONTAL lines\n",
    "\n",
    "\n",
    "# TASK #3: Show the image in a popup window\n",
    "\n",
    "\n",
    "# TASK #4: Close the window\n",
    "\n"
   ]
  },
  {
   "cell_type": "markdown",
   "metadata": {},
   "source": [
    "<p style='font-size:1.75rem;line-height:1.5'>\n",
    "    Notice that all the horizontal grid lines on the sudoku board appear in white. Also notice that some of the numbers are partially visable. This is because the numbers are \"curvy\" shapes and the Sobel function had some difficulty identifying the horizontal aspects of the numbers.\n",
    "    </p>\n",
    "\n",
    "<p style='font-size:1.75rem;line-height:1.5'>\n",
    "    <b style=\"color:red\">Exercise:</b> \n",
    "    <br> Now apply Sobel detection on <code>sudoku.png</code> so that <b style=\"color:green\">VERTICAL lines</b> are detected.\n",
    "    </p>\n",
    "    \n",
    "<p style='font-size:1.75rem;line-height:1.5'>\n",
    "    The result should look something like this:\n",
    "    </p>\n",
    "    \n",
    "<img src=\"sudoku_sobel_vertical.png\" alt=\"sudoku_sobel_vertical\" style=\"width: 300px;\"/>"
   ]
  },
  {
   "cell_type": "code",
   "execution_count": null,
   "metadata": {},
   "outputs": [],
   "source": [
    "# TASK #1: Read the image 'sudoku.png'\n",
    "\n",
    "\n",
    "# TASK #2: Call the Sobel function. Detect only VERTICAL lines\n",
    "\n",
    "\n",
    "# TASK #3: Show the image in a popup window\n",
    "\n",
    "\n",
    "# TASK #4: Close the window\n",
    "\n"
   ]
  },
  {
   "cell_type": "markdown",
   "metadata": {},
   "source": [
    "## Canny Edge Detection"
   ]
  },
  {
   "cell_type": "markdown",
   "metadata": {},
   "source": [
    "<p style='font-size:1.75rem;line-height:1.5'>\n",
    "     Canny Edge Detection is better at identifying <b style=\"color:green\">curved and irregular boundaries</b> than Sobel Detection. Canny outputs a <b style=\"color:green\">binary image with edges highlighted in white</b>. \n",
    "    <br> It has the following format:\n",
    "    </p>\n",
    "\n",
    "```python\n",
    "res = cv2.Canny(<image>, <min_threshold>, <max_threshold>)\n",
    "```\n",
    "    \n",
    "<p style='font-size:1.75rem;line-height:1.5'>\n",
    "    We will be applying Canny on <code>Leo_Messi.jpg</code>:\n",
    "    </p>\n",
    "    \n",
    "<img src=\"Leo_Messi.jpg\" alt=\"Leo_Messi\" style=\"width: 300px;\"/>\n",
    "\n",
    "<p style='font-size:1.75rem;line-height:1.5'>\n",
    "    Canny takes in <b style=\"color:blue\">3 parameters</b>:\n",
    "    </p>\n",
    "    \n",
    "|  Param     | Significance                                 |\n",
    "| ---------- |:--------------------------------------------:|\n",
    "| `img`      | Image you're feeding in                      |\n",
    "| `100`      | Minimum value of edge threshold              |\n",
    "| `200`      | Maximum value of edge threshold              |\n",
    "\n",
    "<p style='font-size:1.75rem;line-height:1.5'>\n",
    "    <code>min_threshold</code> and <code>max_threshold</code> values affect how sensitive the function is to edges in the image:\n",
    "    <ul style='font-size:1.75rem;line-height:2'>\n",
    "        <li>Edges with values <b style=\"color:blue\">above the maximum edge threshold</b> is an <b style=\"color:blue\">indisputable line</b>.</li>\n",
    "        <li>Edges with values <b style=\"color:blue\">below the minimum edge threhshold</b> are <b style=\"color:blue\">NOT lines</b> and will be thrown away.</li>\n",
    "    </ul>\n",
    "    </p>"
   ]
  },
  {
   "cell_type": "markdown",
   "metadata": {},
   "source": [
    "<p style='font-size:1.75rem;line-height:1.5'>\n",
    "    <b style=\"color:red\">Exercise:</b> \n",
    "    <ul style='font-size:1.75rem;line-height:2'>\n",
    "        <li><b style=\"color:green\">Apply Canny Edge Detection</b> on <code>Leo_Messi.jpg</code> to create a <b style=\"color:green\">wire frame</b> image.</li>\n",
    "        <li><b style=\"color:green\">Adjust</b> <code>min_threshold</code> and <code>max_threshold</code>. You should be able to see the <b style=\"color:green\">outlines</b> of Messi and some other features like his hair or his shirt.</li>\n",
    "    </ul>\n",
    "    \n",
    "<p style='font-size:1.75rem;line-height:1.5'>\n",
    "    The result should look something like this:\n",
    "    </p>\n",
    "    \n",
    "<img src=\"leo_messi_canny.jpg\" alt=\"leo_messi_canny\" style=\"width: 400px;\"/>"
   ]
  },
  {
   "cell_type": "code",
   "execution_count": null,
   "metadata": {},
   "outputs": [],
   "source": [
    "# TASK #1: Read the image 'Leo_Messi.jpg'\n",
    "\n",
    "\n",
    "# TASK #2: Call the Canny function. Adjust the thresholds as needed.\n",
    "\n",
    "\n",
    "# TASK #3: Show the image in a popup window\n",
    "\n",
    "\n",
    "# TASK #4: Close the window\n",
    "\n"
   ]
  },
  {
   "cell_type": "markdown",
   "metadata": {},
   "source": [
    "<p style='font-size:1.75rem;line-height:1.5'>\n",
    "    Lets make this a bit more interesting!\n",
    "    </p>\n",
    "    \n",
    "<p style='font-size:1.75rem;line-height:1.5'>\n",
    "    <b style=\"color:red\">Exercise:</b> \n",
    "    <br>Write a program that will <b style=\"color:green\">stream video</b> and show it to you with the <b style=\"color:green\">Canny Edge Detection</b> applied.\n",
    "    </p>"
   ]
  },
  {
   "cell_type": "code",
   "execution_count": null,
   "metadata": {},
   "outputs": [],
   "source": [
    "def apply_canny(frame):\n",
    "    # shrinking for visibility\n",
    "    frame = shrink(frame, 0.7)\n",
    "    \n",
    "    # TASK #1: Apply Canny edge detection on frame\n",
    "    \n",
    "    \n",
    "    # TASK #2: Display the results of the edge detection using cv2.imshow\n",
    "    \n",
    "    \n",
    "# TASK #3: Call video(). Pass in apply_canny as input.\n",
    "\n"
   ]
  },
  {
   "cell_type": "markdown",
   "metadata": {},
   "source": [
    "## Hough Line Transforms\n",
    "\n",
    "<p style='font-size:1.75rem;line-height:1.5'>\n",
    "    Hough Line Transforms is another good way of <b style=\"color:green\">detecting straight lines</b> in images. \n",
    "    <br>Unlike Sobel Detection, this function is <b style=\"color:green\">not limited horizontal and vertical lines</b>. It can detect <b style=\"color:green\">oblique lines!</b>\n",
    "    </p>\n",
    "    \n",
    "<p style='font-size:1.75rem;line-height:1.5'>\n",
    "    Use the instructor-made function <code>get_hough_lines</code> to <b style=\"color:green\">get the Hough Lines</b> from an image. \n",
    "    <br>It has the following format:\n",
    "    </p>\n",
    "\n",
    "```python\n",
    "lines = get_hough_lines(<image>)\n",
    "```\n",
    "\n",
    "<p style='font-size:1.75rem;line-height:1.5'>\n",
    "    Use the instructor-made function <code>draw_hough_lines</code> to <b style=\"color:green\">draw the Hough Lines</b> on the image. \n",
    "    <br>It has the following format:\n",
    "    </p>\n",
    "\n",
    "```python\n",
    "draw_hough_lines(<image>, <lines>)\n",
    "```\n",
    "\n",
    "<p style='font-size:1.75rem;line-height:1.5'>\n",
    "    We will be applying the hough line transform on <code>sudoku.png</code> again:\n",
    "    </p>\n",
    "    \n",
    "<img src=\"sudoku.png\" alt=\"sudoku\" style=\"width: 300px;\"/>\n",
    "\n",
    "<p style='font-size:1.75rem;line-height:1.5'>\n",
    "    This function takes an <b style=\"color:blue\">image as input</b>, and <b style=\"color:blue\">outputs an array of pairs of (x,y) coordinate points</b>. Each pair of points defines a line that Hough Lines has found in you image. This will come in handy later.\n",
    "    </p>\n",
    "     "
   ]
  },
  {
   "cell_type": "markdown",
   "metadata": {},
   "source": [
    "<p style='font-size:1.75rem;line-height:1.5'>\n",
    "    <b style=\"color:red\">Exercise:</b> \n",
    "    <ol style='font-size:1.75rem;line-height:2'>\n",
    "      <li>Apply Hough Line Transforms on <code>sudoku.png</code> to try to find the lines on the image. Remember, this function is giving points for the lines Hough Lines detects.</li>\n",
    "      <li>Use <code>draw_hough_lines</code> to draw the lines onto the image.</li>\n",
    "    </ol> \n",
    "\n",
    "\n",
    "<p style='font-size:1.75rem;line-height:1.5'>\n",
    "    The result should look something like this:\n",
    "    </p>\n",
    "    \n",
    "<img src=\"sudoku_hough_lines.jpg\" alt=\"sudoku_hough_lines\" style=\"width: 300px;\"/>\n"
   ]
  },
  {
   "cell_type": "code",
   "execution_count": null,
   "metadata": {},
   "outputs": [],
   "source": [
    "# TASK #1: Read the image 'sudoku.png'\n",
    "\n",
    "\n",
    "# TASK #2: Get the lines found in the image via get_hough_lines\n",
    "\n",
    "\n",
    "# TASK #3: Draw the lines onto the image via draw_hough_lines\n",
    "\n",
    "\n",
    "# TASK #4: Show the image in a popup window\n",
    "\n",
    "\n",
    "# TASK #5: Close the window\n",
    "\n"
   ]
  },
  {
   "cell_type": "markdown",
   "metadata": {},
   "source": [
    "<p style='font-size:1.75rem;line-height:1.5'>\n",
    "    Lets make this a bit more interesting!\n",
    "    </p>\n",
    "    \n",
    "<p style='font-size:1.75rem;line-height:1.5'>\n",
    "    <b style=\"color:red\">Exercise:</b> \n",
    "    <br>Write a program that will <b style=\"color:green\">stream video</b> and show it to you with the <b style=\"color:green\">Hough Line Transforms</b> applied.\n",
    "    </p>"
   ]
  },
  {
   "cell_type": "code",
   "execution_count": null,
   "metadata": {},
   "outputs": [],
   "source": [
    "def apply_hough_lines(frame):\n",
    "    # shrinking for visibility\n",
    "    frame = shrink(frame, 0.7)\n",
    "    \n",
    "    # TASK #1: Get the lines found in the frame via get_hough_lines\n",
    "   \n",
    "    \n",
    "    # TASK #2: Draw the lines onto the frame via draw_hough_lines\n",
    "    \n",
    "    \n",
    "    # TASK #3: Display the results of the edge detection using cv2.imshow\n",
    "    \n",
    "    \n",
    "# TASK #4: Call video(). Pass in apply_hough_lines as input.\n",
    "\n"
   ]
  }
 ],
 "metadata": {
  "kernelspec": {
   "display_name": "Python 2",
   "language": "python",
   "name": "python2"
  },
  "language_info": {
   "codemirror_mode": {
    "name": "ipython",
    "version": 2
   },
   "file_extension": ".py",
   "mimetype": "text/x-python",
   "name": "python",
   "nbconvert_exporter": "python",
   "pygments_lexer": "ipython2",
   "version": "2.7.16"
  }
 },
 "nbformat": 4,
 "nbformat_minor": 2
}

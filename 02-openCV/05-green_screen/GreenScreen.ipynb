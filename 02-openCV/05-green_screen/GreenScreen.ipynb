{
 "cells": [
  {
   "cell_type": "code",
   "execution_count": null,
   "metadata": {},
   "outputs": [],
   "source": [
    "# FIRST import all the necessary libraries and modules!\n",
    "import cv2               # import OpenCV\n",
    "import numpy as np       # import NumPy\n",
    "\n",
    "# import instructor made functions \n",
    "import sys\n",
    "sys.path.insert(0, '../..')\n",
    "from utils import *"
   ]
  },
  {
   "cell_type": "markdown",
   "metadata": {},
   "source": [
    "# Green Screen Lab\n",
    "\n",
    "<p style='font-size:1.75rem;line-height:1.5'>\n",
    "    Ever seen how weather reporting uses <b style=\"color:green\">green screens</b> so that the <b style=\"color:green\">green background</b> can be replaced with the <b style=\"color:blue\">current weather map</b>?\n",
    "    </p>\n",
    "\n",
    "<img src=\"green_screen_weather.png\" alt=\"green_screen_weather\" style=\"width: 700px;\"/>\n",
    "\n",
    "<p style='font-size:1.75rem;line-height:1.5'>\n",
    "    Many famous movies also use <b style=\"color:green\">green screens</b> to create some pretty cool scenes! \n",
    "    </p>\n",
    "\n",
    "<p style='font-size:1.75rem;line-height:1.5'>\n",
    "    Below is a scene from Marvel's Iron Man, which uses a <b style=\"color:green\">green screen</b> to recreate RDJ's <b style=\"color:blue\">suit</b>, as well as the <b style=\"color:blue\">background</b>. \n",
    "    </p>\n",
    "\n",
    "<img src=\"green_screen_ironman.png\" alt=\"green_screen_ironman\" style=\"width: 500px;\"/>\n",
    "\n",
    "<p style='font-size:1.75rem;line-height:1.5'>\n",
    "    <br> Using the tools we've learned so far.. <b>We can do this too!</b> \n",
    "    <br> Let's learn how to replace a <b style=\"color:green\">green background</b> with a <b style=\"color:blue\">different image</b>!\n",
    "    <br><br> Read more about how green screens work [<a href=\"https://www.videomaker.com/article/c10/17026-how-does-green-screen-work\">here</a>].\n",
    "    </p>\n"
   ]
  },
  {
   "cell_type": "markdown",
   "metadata": {},
   "source": [
    "# Minions, Minions, Minions! \n",
    "\n",
    "<p style='font-size:1.75rem;line-height:1.5'>\n",
    "    <b style=\"color:red\">Exercise:</b> \n",
    "    <br> Overlay minions from one image to another background!\n",
    "    </p>\n",
    "\n",
    "<p style='font-size:1.75rem;line-height:1.5'>\n",
    "    Below is a <b style=\"color:green\">green screen</b> picture of minions: <code>minion.jpg</code>\n",
    "    </p>\n",
    "    \n",
    "<img src=\"minion.jpg\" alt=\"minion\" style=\"width: 300px;\"/>\n",
    "\n",
    "<p style='font-size:1.75rem;line-height:1.5'>\n",
    "    Here is a <b style=\"color:blue\">background picture</b>: <code>background.jpg</code>\n",
    "    </p>\n",
    "\n",
    "<img src=\"background.jpg\" alt=\"background\" style=\"width: 300px;\"/>\n",
    "\n",
    "<p style='font-size:1.75rem;line-height:1.5'>\n",
    "    Our goal is to <b style=\"color:magenta\">combine the two images</b> like this (the starting minion picture is different though):\n",
    "    </p>\n",
    "    \n",
    "<img src=\"minion_background_combined.png\" alt=\"minion_background_combined\" style=\"width: 300px;\"/>\n"
   ]
  },
  {
   "cell_type": "markdown",
   "metadata": {},
   "source": [
    "## Steps:\n",
    "<p style='font-size:1.75rem;line-height:1.5'>\n",
    "    Use <code>minion.jpg</code> as the <b>front image</b>.\n",
    "    <br> Use <code>background.jpg</code> as the <b>background image</b>.\n",
    "    <br> Use <code>screenProcessing</code> function so that we can easily reuse code for different images and color ranges!\n",
    "    </p>\n",
    "    \n",
    "<p style='font-size:1.75rem;line-height:1.5'>\n",
    "    <ol style='font-size:1.75rem;line-height:2'>\n",
    "        <li><b style=\"color:blue\">Create a mask for the front image.</b> \n",
    "            <br> Use <code>hsv_select</code> to find the hsv upper and lower bounds to mask all the green from the front image. \n",
    "            <br> <b style=\"color:blue\">Overlay this mask on the background image</b>, so that objects from the front image appears in the background image. \n",
    "            <br> Here is a rough idea of what this should look like: </li>\n",
    "        <img src='background_mask.png' height='300' width='300'> \n",
    "        <li><b style=\"color:blue\">Create a mask to make the green in the front image disappear.</b>  \n",
    "            <br> Here is a rough idea of what this should look like:</li>\n",
    "        <img src='front_mask.png' height='300' width='300'> \n",
    "        <li><b style=\"color:blue\">Combine the (masked) front image and background images</b>:\n",
    "            <br> <code>&lt;img_3&gt; = &lt;img_1&gt; + &lt;img_2&gt;</code></li>\n",
    "        <li><b style=\"color:blue\">Return <code>&lt;img_3&gt;</code> as the result of the <code>screenProcessing</code>function.</b></li>\n",
    "    </ol>\n",
    "    </p>\n",
    "    \n",
    "<p style='font-size:1.75rem;line-height:1.5'>\n",
    "    Let us see for ourselves what the final result looks like!! :)\n",
    "    </p>"
   ]
  },
  {
   "cell_type": "markdown",
   "metadata": {},
   "source": [
    "### Find the HSV color ranges"
   ]
  },
  {
   "cell_type": "code",
   "execution_count": null,
   "metadata": {},
   "outputs": [],
   "source": [
    "# Use hsv_select to mask the green! \n",
    "hsv_select(\"minion.jpg\")"
   ]
  },
  {
   "cell_type": "markdown",
   "metadata": {},
   "source": [
    "### Overlay the front image onto the background image!\n",
    "<p style='font-size:1.75rem;line-height:1.5'>\n",
    "    <b>TIP:</b> To make sure that each image/mask you create is doing as expected, return the image you create at each task in the <code>screenProcessing</code> function!\n",
    "    </p>"
   ]
  },
  {
   "cell_type": "code",
   "execution_count": null,
   "metadata": {},
   "outputs": [],
   "source": [
    "def screenProcessing(front_img, background_img, hsv_lower, hsv_upper):\n",
    "    \"\"\"\n",
    "        input: a front image, the background image, \n",
    "            the hsv_lower and hsv_upper bounds (indicates the color range)\n",
    "        output: a new image with masked front_img overlayed on background_img\n",
    "    \"\"\"\n",
    "    # TASK #1: Convert front_img into hsv with cv2.cvtColor\n",
    "    \n",
    "    \n",
    "    # TASK #2: Create a mask with cv2.inRange using the hsv ranges \n",
    "    \n",
    "    \n",
    "    # TASK #3: Create an inverse of the mask using cv2.bitwise_not\n",
    "    \n",
    "    \n",
    "    # Make sure that background_img is the same shape as the front_img\n",
    "    cropped_background_img = background_img[0:front_img.shape[0], 0:front_img.shape[1]]\n",
    "    \n",
    "    # TASK #4: Use cv2.bitwise_and & inversed mask on the cropped_background_img (step 1)\n",
    "    \n",
    "    \n",
    "    # TASK #5: Use cv2.bitwise_and & mask on front_img (step 2)\n",
    "    \n",
    "    \n",
    "    # TASK #6: Add the two masked images together (see step 3)\n",
    "    \n",
    "    \n",
    "    # TASK #7: Return the result from TASK #6 (step 4)\n",
    "    return None\n"
   ]
  },
  {
   "cell_type": "markdown",
   "metadata": {},
   "source": [
    "### Let's test our function!"
   ]
  },
  {
   "cell_type": "code",
   "execution_count": null,
   "metadata": {},
   "outputs": [],
   "source": [
    "# TASK #8: Open a background image --> sample: background.jpg \n",
    "\n",
    "\n",
    "# TASK #9: Open a greenscreen/front image --> sample: minion.jpg\n",
    "\n",
    "\n",
    "# TASK #10: Define the color ranges \n",
    "hsv_lower = (None, None, None)    # Replace NONE with integers!\n",
    "hsv_upper = (None, None, None)    # Replace NONE with integers!\n",
    "\n",
    "# TASK #11: Call screenProcessing, using the inputs we've defined above\n",
    "\n",
    "\n",
    "# TASK #12: Show the image in a popup window\n",
    "\n",
    "\n",
    "# TASK #13: Close the popup window\n",
    "\n"
   ]
  },
  {
   "cell_type": "markdown",
   "metadata": {},
   "source": [
    "<p style='font-size:1.75rem;line-height:1.5'>\n",
    "    <b style=\"color:green\">Great job!</b> Give yourself (and your partner) a pat on the back. You have mastered the art of masking. \n",
    "    </p>\n",
    "    \n",
    "<p style='font-size:1.75rem;line-height:1.5'>\n",
    "    Now, let us apply our knowledge of masking to <b style=\"color:blue\">a live video</b> from the webcam!\n",
    "    </p>\n",
    "    \n",
    "---\n",
    "\n",
    "### <b style=\"color:red\">BONUS Exercise</b> (optional)\n",
    "<p style='font-size:1.75rem;line-height:1.5'>\n",
    "    Find your own background images!\n",
    "    <br> <b>Note:</b> make sure that the image is big enough, otherwise there will be an error.\n",
    "    </p>\n",
    "\n",
    "---\n"
   ]
  },
  {
   "cell_type": "markdown",
   "metadata": {},
   "source": [
    "# Live Video\n",
    "    \n",
    "<p style='font-size:1.75rem;line-height:1.5'>\n",
    "    <b style=\"color:blue\">Videos are just images</b> (aka \"frames\"). <br> We can <b style=\"color:green\">open a video</b> using the function: <code>video</code>. It has the following format: \n",
    "    </p>\n",
    "\n",
    "```python\n",
    "video(<function>)\n",
    "```\n",
    "    \n",
    "<p style='font-size:1.75rem;line-height:1.5'>\n",
    "     <code>video</code> passes in the current \"frame\" to the function we specify. \n",
    "    </p>\n",
    "    \n",
    "<img src='video.png' height='500' width='500'> \n",
    "    \n",
    "<p style='font-size:1.75rem;line-height:1.5'>\n",
    "    <b style=\"color:red\">Exercise:</b> \n",
    "    <br> <b>Open a video</b> in a popup window. Press 'ESC' to close. \n",
    "    <ol style='font-size:1.75rem;line-height:2'>\n",
    "        <li>Show the frame in the <code>show_frame</code> function. </li>\n",
    "        <li>Call <code>video</code>. Pass in <code>show_frame</code> for &lt;function&gt;.</li>\n",
    "    </ol>\n",
    "    </p>\n",
    "\n",
    "<p style='font-size:1.75rem;line-height:1.5'>\n",
    "    <b>Make sure that you have a webcam connected to your laptop!</b>\n",
    "    </p>"
   ]
  },
  {
   "cell_type": "code",
   "execution_count": null,
   "metadata": {},
   "outputs": [],
   "source": [
    "def show_frame(frame):\n",
    "    # TASK #1: Whow the frame in a popup window via cv2.imshow\n",
    "    # Note: We DO NOT need close_window() here bc it is included in the video function\n",
    "    \n",
    "    \n",
    "# TASK #2: Call video. Pass in show_frame for <function>.\n"
   ]
  },
  {
   "cell_type": "markdown",
   "metadata": {},
   "source": [
    "# Live Color Masking\n",
    "\n",
    "<p style='font-size:1.75rem;line-height:1.5'>\n",
    "    Now that the selfie cam up and running, we can not only display the frames, but also manipulate them!\n",
    "    </p> \n",
    "\n",
    "<p style='font-size:1.75rem;line-height:1.5'>\n",
    "    <b style=\"color:red\">Exercise:</b>\n",
    "    <br> Complete the <code>blue_mask</code> function so that it masks <b style=\"color:blue\">blue objects</b> in a frame.\n",
    "    </p> \n",
    "\n",
    "<p style='font-size:1.75rem;line-height:1.5'>\n",
    "    <b> Hint! </b> Use <code>hsv_select_live()</code> to find the hsv ranges for blue!\n",
    "    </p> "
   ]
  },
  {
   "cell_type": "code",
   "execution_count": null,
   "metadata": {},
   "outputs": [],
   "source": [
    "# Use 'hsv_select_live' to mask for blue! \n",
    "# Note: this function allows you to test hsv values using your live webcam!\n",
    "hsv_select_live()"
   ]
  },
  {
   "cell_type": "code",
   "execution_count": null,
   "metadata": {},
   "outputs": [],
   "source": [
    "def blue_mask(frame):\n",
    "    # TASK #1: Convert the frame into hsv with cv2.cvtColor\n",
    "        \n",
    "        \n",
    "    # TASK #2: Define the color ranges for BLUE\n",
    "    hsv_lower = (None, None, None)    # Replace NONE with integers!\n",
    "    hsv_upper = (None, None, None)    # Replace NONE with integers!\n",
    "\n",
    "    # TASK #3: Create a mask with cv2.inRange using the hsv ranges \n",
    "\n",
    "\n",
    "    # TASK #4: Mask the image using cv2.bitwise_and\n",
    "\n",
    "\n",
    "    # TASK #5: Show the masked image \n",
    "    \n",
    "    \n",
    "video(blue_mask)"
   ]
  },
  {
   "cell_type": "markdown",
   "metadata": {},
   "source": [
    "# Live Green Screen \n",
    "\n",
    "<p style='font-size:1.75rem;line-height:1.5'>\n",
    "    <b style=\"color:red\">Exercise:</b>\n",
    "    <br> Let's make a <b style=\"color:green\">green screen</b> for videos. \n",
    "    </p>\n",
    "    \n",
    "<p style='font-size:1.75rem;line-height:1.5'>\n",
    "    Remember how we were able to overlay a front image onto a background using <code>screenProcessing</code>? We can re-use the function here!\n",
    "    </p>"
   ]
  },
  {
   "cell_type": "code",
   "execution_count": null,
   "metadata": {},
   "outputs": [],
   "source": [
    "# TASK #1: Define the green screen color range\n",
    "hsv_lower = (None, None, None)    # Replace NONE with integers!\n",
    "hsv_upper = (None, None, None)    # Replace NONE with integers!\n",
    "\n",
    "# TASK #2: Read the background image \n",
    "\n",
    "\n",
    "def overlay_background(frame):\n",
    "    # TASK #3: Call screenProcessing with the frame as input for front_image\n",
    "    # Make sure you have run the screenProcessing cell block above!\n",
    "    \n",
    "\n",
    "    # TASK #4: Show the outputted image with imshow(). Do NOT call close_windows()!\n",
    "    \n",
    "    \n",
    "video(overlay_background)\n"
   ]
  },
  {
   "cell_type": "markdown",
   "metadata": {},
   "source": [
    "-----"
   ]
  },
  {
   "cell_type": "markdown",
   "metadata": {},
   "source": [
    "####  Side notes:\n",
    "\n",
    "*From live tracking, we've learned that videos can be represented as a series of images. Thus, if we wanted to replace the green screen background with a video instead of an image, we can as well.*\n",
    "\n",
    "*All we need to do is define a list of images (the video), and have a variable that tracks the index of images that it's currently on. Then, we would just need to increment the variable in the while loop and add an if statement to make sure that the tracker variable is in range.*"
   ]
  },
  {
   "cell_type": "markdown",
   "metadata": {},
   "source": [
    "#### Other Resources\n",
    "https://docs.opencv.org/3.0-beta/doc/py_tutorials/py_core/py_image_arithmetics/py_image_arithmetics.html#image-arithmetics <br>\n",
    "https://stackoverflow.com/questions/44333605/what-does-bitwise-and-operator-exactly-do-in-opencv\n",
    "(See 2nd answer for a more in-depth explanation of bitwise functions) <br>\n",
    "https://docs.opencv.org/3.0-beta/doc/py_tutorials/py_imgproc/py_colorspaces/py_colorspaces.html#converting-colorspaces"
   ]
  }
 ],
 "metadata": {
  "kernelspec": {
   "display_name": "Python 2",
   "language": "python",
   "name": "python2"
  },
  "language_info": {
   "codemirror_mode": {
    "name": "ipython",
    "version": 2
   },
   "file_extension": ".py",
   "mimetype": "text/x-python",
   "name": "python",
   "nbconvert_exporter": "python",
   "pygments_lexer": "ipython2",
   "version": "2.7.16"
  }
 },
 "nbformat": 4,
 "nbformat_minor": 2
}

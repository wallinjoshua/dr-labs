{
 "cells": [
  {
   "cell_type": "code",
   "execution_count": null,
   "metadata": {},
   "outputs": [],
   "source": [
    "# suppress automatic output\n",
    "from IPython.core.interactiveshell import InteractiveShell\n",
    "InteractiveShell.ast_node_interactivity = \"none\""
   ]
  },
  {
   "cell_type": "markdown",
   "metadata": {},
   "source": [
    "# Functions\n",
    "\n",
    "<p style='font-size:1.75rem;line-height:1.5'>\n",
    "    <b style=\"color:red\">Functions</b> allow us to neatly <b style=\"color:blue\">group sections of code together</b>, making it easier for programmers to understand, debug, and reuse code. \n",
    "    </p>\n",
    "\n",
    "<p style='font-size:1.75rem;line-height:1.5'>\n",
    "    You can use these code blocks, or functions, repeatedly, and in many different places in programs.\n",
    "    </p>"
   ]
  },
  {
   "cell_type": "markdown",
   "metadata": {},
   "source": [
    "# Preview\n",
    "\n",
    "<p style='font-size:1.75rem;line-height:1.5'>\n",
    "    <b style=\"color:red\">Why use functions?</b> They allow us to <b style=\"color:blue\">reuse code</b>. For example, let's print a greeting for Sam, Bob, and Jane. Without functions, we would have to print the <b>same greeting three times</b>, even though we only change one thing about each string.\n",
    "    </p>"
   ]
  },
  {
   "cell_type": "code",
   "execution_count": null,
   "metadata": {},
   "outputs": [],
   "source": [
    "print('Hello Sam, have a great day!')\n",
    "print('Hello Bob, have a great day!')\n",
    "print('Hello Jane, have a great day!')"
   ]
  },
  {
   "cell_type": "markdown",
   "metadata": {},
   "source": [
    "<p style='font-size:1.75rem;line-height:1.5'>\n",
    "    Run the code block below. It should print the same thing as above, but notice that this time, using a function, we only had to <b>write the greeting once</b> within the code.\n",
    "    </p>"
   ]
  },
  {
   "cell_type": "code",
   "execution_count": null,
   "metadata": {},
   "outputs": [],
   "source": [
    "def greet(name):\n",
    "    print('Hello ' + name + ', have a great day!')\n",
    "\n",
    "greet('Sam')\n",
    "greet('Bob')\n",
    "greet('Jane')"
   ]
  },
  {
   "cell_type": "markdown",
   "metadata": {},
   "source": [
    "# Defining a Function\n",
    "<p style='font-size:1.75rem;line-height:1.5'>\n",
    "    Let's start <b style=\"color:red\">creating functions!</b>\n",
    "    </p>\n",
    "<p style='font-size:1.75rem;line-height:1.5'>\n",
    "    To create a function, use the <b style=\"color:blue\">keyword</b> <code>def</code>, the <b style=\"color:blue\">function name</b>, <b style=\"color:blue\">parenthesis</b> <code>()</code>, and a <b style=\"color:blue\">colon</b> <code>:</code>. Function naming follows the same rules and conventions as naming variable. For example:\n",
    "    </p>\n",
    "\n",
    "```python\n",
    "def say_bye():\n",
    "```"
   ]
  },
  {
   "cell_type": "markdown",
   "metadata": {},
   "source": [
    "# Body of a Function \n",
    "<p style='font-size:1.75rem;line-height:1.5'>\n",
    "    A function also needs a <b style=\"color:red\">body</b>. The body of a function is the \"brains\", it <b style=\"color:blue\">does all the actual work</b> in a function. We indent the body of the function. For example, here is a complete function:\n",
    "    </p>"
   ]
  },
  {
   "cell_type": "code",
   "execution_count": null,
   "metadata": {},
   "outputs": [],
   "source": [
    "# Run this code block\n",
    "def say_bye():\n",
    "    print('Goodbye!')"
   ]
  },
  {
   "cell_type": "markdown",
   "metadata": {},
   "source": [
    "<p style='font-size:1.75rem;line-height:1.5'>\n",
    "    Define a function <code>say_hello()</code> that prints <code>Hello!</code> to the screen.\n",
    "    </p>"
   ]
  },
  {
   "cell_type": "code",
   "execution_count": null,
   "metadata": {},
   "outputs": [],
   "source": [
    "# Define a function say_hello (look at previous example for help), and run the code block\n",
    "\n"
   ]
  },
  {
   "cell_type": "markdown",
   "metadata": {},
   "source": [
    "<p style='font-size:1.75rem;line-height:1.5'>\n",
    "    Notice that when we run the code blocks above, <b>nothing happens</b>. That's to be expected. We never told the function to execute! To tell the computer that we want to execute this function, we need to <b style=\"color:red\">call it.</b>\n",
    "    </p>"
   ]
  },
  {
   "cell_type": "markdown",
   "metadata": {},
   "source": [
    "# Calling a Function\n",
    "<p style='font-size:1.75rem;line-height:1.5'>\n",
    "    <b style=\"color:red\">Calling</b> a function tells the computer that we <b style=\"color:blue\">want to run the code</b> in the body of the function.\n",
    "    </p>\n",
    "<p style='font-size:1.75rem;line-height:1.5'>\n",
    "    Let's call our <code>say_bye</code> function. Notice that when we call this function, we simply write the <b style=\"color:blue\">name of the function</b>, followed by the <b style=\"color:blue\">parentheses</b>.\n",
    "    </p>"
   ]
  },
  {
   "cell_type": "code",
   "execution_count": null,
   "metadata": {},
   "outputs": [],
   "source": [
    "say_bye()"
   ]
  },
  {
   "cell_type": "markdown",
   "metadata": {},
   "source": [
    "<p style='font-size:1.75rem;line-height:1.5'>\n",
    "    Call your <code>say_hello</code> function below.\n",
    "    </p>"
   ]
  },
  {
   "cell_type": "code",
   "execution_count": null,
   "metadata": {},
   "outputs": [],
   "source": [
    "# Call the say_hello function\n",
    "\n"
   ]
  },
  {
   "cell_type": "markdown",
   "metadata": {},
   "source": [
    "# Return\n",
    "<p style='font-size:1.75rem;line-height:1.5'>\n",
    "    The <b style=\"color:red\">return statement</b> <b style=\"color:blue\">\"gives back\"</b> the result (the output) to whatever initially called the function. Once the <code>return</code> statement is executed, the function will immediately end and return something. \n",
    "    </p>\n",
    "<p style='font-size:1.75rem;line-height:1.5'>\n",
    "If a function does not have a return statement, it returns <code>None</code>.\n",
    "    </p>"
   ]
  },
  {
   "cell_type": "markdown",
   "metadata": {},
   "source": [
    "<p style='font-size:1.75rem;line-height:1.5'>\n",
    "    Run the code block below.\n",
    "    </p>"
   ]
  },
  {
   "cell_type": "code",
   "execution_count": null,
   "metadata": {},
   "outputs": [],
   "source": [
    "def get_five():\n",
    "    return 5"
   ]
  },
  {
   "cell_type": "markdown",
   "metadata": {},
   "source": [
    "<p style='font-size:1.75rem;line-height:1.5'>\n",
    "    Now we have defined a function <code>get_five</code> that returns <code>5</code>. Try calling the function and see what is output.\n",
    "    </p>"
   ]
  },
  {
   "cell_type": "code",
   "execution_count": null,
   "metadata": {
    "scrolled": true
   },
   "outputs": [],
   "source": [
    "# Call the function five here\n"
   ]
  },
  {
   "cell_type": "markdown",
   "metadata": {},
   "source": [
    "<p style='font-size:1.75rem;line-height:1.5'>\n",
    "    Returning the number <code>5</code> every time we run this function is pretty cool, but can we get functions do something cooler by giving it inputs? We can do this by giving <b style=\"color:red\">arguments</b> to functions!\n",
    "    </p>"
   ]
  },
  {
   "cell_type": "markdown",
   "metadata": {},
   "source": [
    "# <b style=\"color:red\">--- STOP HERE --- </b>\n",
    "\n",
    "---"
   ]
  },
  {
   "cell_type": "markdown",
   "metadata": {},
   "source": [
    "# Arguments\n",
    "<p style='font-size:1.75rem;line-height:1.5'>\n",
    "    An <b style=\"color:red\">argument</b> is an <b style=\"color:blue\">input variable</b> we give to a function so that the function can use it.\n",
    "    </p>\n",
    "    \n",
    "<p style='font-size:1.75rem;line-height:1.5'>\n",
    "    For example, in the code block below, we created the function <code>add_to_pi</code>, which takes in the argument <code>number</code>. The function then adds pi, approximately <code>3.14159</code>, to the number we passed in as the argument.\n",
    "    </p>\n",
    "<p style='font-size:1.75rem;line-height:1.5'>\n",
    "    Now we can use this function to <b>add any number to pi!</b>\n",
    "    </p>"
   ]
  },
  {
   "cell_type": "code",
   "execution_count": null,
   "metadata": {},
   "outputs": [],
   "source": [
    "def add_to_pi(number):\n",
    "    pi_sum = number + 3.14159\n",
    "    return pi_sum"
   ]
  },
  {
   "cell_type": "markdown",
   "metadata": {},
   "source": [
    "<p style='font-size:1.75rem;line-height:1.5'>\n",
    "    Let's <b style=\"color:red\">call</b> our <code>add_to_pi</code> function on the number <code>200</code>.\n",
    "    </p>\n",
    "\n",
    "<p style='font-size:1.75rem;line-height:1.5'>\n",
    "    Notice that we include the arguments within the parenthesis. In this case, our function accepts only <b>one argument</b>, which we give as <code>200</code>.\n",
    "    </p>"
   ]
  },
  {
   "cell_type": "code",
   "execution_count": null,
   "metadata": {
    "scrolled": true
   },
   "outputs": [],
   "source": [
    "add_to_pi(200)"
   ]
  },
  {
   "cell_type": "markdown",
   "metadata": {},
   "source": [
    "<p style='font-size:1.75rem;line-height:1.5'>\n",
    "    Call the function <code>add_to_pi</code> from above and pass in a number of your choice!\n",
    "    </p>"
   ]
  },
  {
   "cell_type": "code",
   "execution_count": null,
   "metadata": {},
   "outputs": [],
   "source": [
    "# Call add_to_pi on a number of your choice\n",
    "\n"
   ]
  },
  {
   "cell_type": "markdown",
   "metadata": {},
   "source": [
    "<p style='font-size:1.75rem;line-height:1.5'>\n",
    "    Write a function that multiplies the input by <code>365</code>, and returns the result.\n",
    "    </p>\n",
    "<p style='font-size:1.75rem;line-height:1.5'>\n",
    "    (What do you think a good name for this function would be?)\n",
    "    </p>"
   ]
  },
  {
   "cell_type": "code",
   "execution_count": null,
   "metadata": {},
   "outputs": [],
   "source": [
    "# Write your function here\n",
    "\n"
   ]
  },
  {
   "cell_type": "markdown",
   "metadata": {},
   "source": [
    "<p style='font-size:1.75rem;line-height:1.5'>\n",
    "    Now call your function, giving it the input <code>7</code>.  If the function is written and called correctly, we should get the result <code>2555</code>.\n",
    "    </p>"
   ]
  },
  {
   "cell_type": "code",
   "execution_count": null,
   "metadata": {},
   "outputs": [],
   "source": [
    "# Call your function\n",
    "\n"
   ]
  },
  {
   "cell_type": "markdown",
   "metadata": {},
   "source": [
    "# Multiple Arguments\n",
    "<p style='font-size:1.75rem;line-height:1.5'>\n",
    "    Functions can also have <b style=\"color:red\">multiple arguments</b>. Below is an example of a function with two inputs. This function adds the two input numbers and returns the sum.\n",
    "    </p>"
   ]
  },
  {
   "cell_type": "code",
   "execution_count": null,
   "metadata": {},
   "outputs": [],
   "source": [
    "def add_two_nums(num1, num2):\n",
    "    ans = num1 + num2\n",
    "    return ans"
   ]
  },
  {
   "cell_type": "markdown",
   "metadata": {},
   "source": [
    "<p style='font-size:1.75rem;line-height:1.5'>\n",
    "    Now, we can pick <strong>any two numbers</strong> we want and add them! Notice how the two number <strong>arguments</strong> are separated by a <strong>comma</strong>. \n",
    "    </p>"
   ]
  },
  {
   "cell_type": "markdown",
   "metadata": {},
   "source": [
    "<p style='font-size:1.75rem;line-height:1.5'>\n",
    "    Let's call this function now, giving it the arguments <code>7</code> and <code>5</code>.\n",
    "    </p>"
   ]
  },
  {
   "cell_type": "code",
   "execution_count": null,
   "metadata": {},
   "outputs": [],
   "source": [
    "add_two_nums(7, 5)"
   ]
  },
  {
   "cell_type": "markdown",
   "metadata": {},
   "source": [
    "<p style='font-size:1.75rem;line-height:1.5'>\n",
    "    A function can also take in as many arguments as we want!\n",
    "    </p>"
   ]
  },
  {
   "cell_type": "code",
   "execution_count": null,
   "metadata": {
    "scrolled": true
   },
   "outputs": [],
   "source": [
    "def add_four_nums(num1, num2, num3, num4):\n",
    "    ans = num1 + num2 + num3 + num4\n",
    "    return ans\n",
    "\n",
    "add_four_nums(1, 2, 3, 4)"
   ]
  },
  {
   "cell_type": "markdown",
   "metadata": {},
   "source": [
    "<p style='font-size:1.75rem;line-height:1.5'>\n",
    "    Now it's your turn! Define a function that takes in two numbers and multiplies them together.\n",
    "    </p>"
   ]
  },
  {
   "cell_type": "code",
   "execution_count": null,
   "metadata": {},
   "outputs": [],
   "source": [
    "# Define your function here\n",
    "\n"
   ]
  },
  {
   "cell_type": "markdown",
   "metadata": {},
   "source": [
    "<p style='font-size:1.75rem;line-height:1.5'>\n",
    "    Call your function on two numbers of your choice.\n",
    "    </p>"
   ]
  },
  {
   "cell_type": "code",
   "execution_count": null,
   "metadata": {},
   "outputs": [],
   "source": [
    "# Call your function\n",
    "\n"
   ]
  },
  {
   "cell_type": "markdown",
   "metadata": {},
   "source": [
    "# Absolute Value"
   ]
  },
  {
   "cell_type": "markdown",
   "metadata": {},
   "source": [
    "<p style='font-size:1.75rem;line-height:1.5'>\n",
    "    The absolute value of a number is its distance from 0. For example, the absolute value of 4 is 4, and the absolute value of -10 is 10. It is always the positive value of whatever is passed into it.\n",
    "    </p>    \n",
    "<p style='font-size:1.75rem;line-height:1.5'>\n",
    "    Write a function <code>absolute_value</code> that calculates the absolute value of a number passed into it.\n",
    "    </p>\n",
    "<p style='font-size:1.75rem;line-height:1.5'>\n",
    "    Hint: Use conditionals!\n",
    "    </p>"
   ]
  },
  {
   "cell_type": "code",
   "execution_count": null,
   "metadata": {},
   "outputs": [],
   "source": [
    "# Write your function here\n",
    "\n"
   ]
  },
  {
   "cell_type": "markdown",
   "metadata": {},
   "source": [
    "<p style='font-size:1.75rem;line-height:1.5'>\n",
    "    Now test your function on a few numbers. Try both positive and negative numbers!\n",
    "    </p>"
   ]
  },
  {
   "cell_type": "code",
   "execution_count": null,
   "metadata": {},
   "outputs": [],
   "source": [
    "# Test your function here\n",
    "\n"
   ]
  },
  {
   "cell_type": "markdown",
   "metadata": {},
   "source": [
    "<p style='font-size:1.75rem;line-height:1.5'>\n",
    "    By the way, Python has a built in functin <code>abs</code> which does this, but don't use it here!\n",
    "    </p>"
   ]
  },
  {
   "cell_type": "markdown",
   "metadata": {},
   "source": [
    "# Basic Calculator"
   ]
  },
  {
   "cell_type": "markdown",
   "metadata": {},
   "source": [
    "<p style='font-size:1.75rem;line-height:1.5'>\n",
    "    Let's make a function that can do the four basic math operations. Have two arguements for the numbers, and pass in a third arguement that specifies the operation to be performed. For example, the following function multiplies or divides.\n",
    "    </p>"
   ]
  },
  {
   "cell_type": "code",
   "execution_count": null,
   "metadata": {},
   "outputs": [],
   "source": [
    "def multiply_or_divide(num1, num2, operation):\n",
    "    if operation == 'multiply':\n",
    "        return num1 * num2\n",
    "    elif operation == 'divide':\n",
    "        return float(num1) / num2  # convert to float to do normal division\n",
    "    else:\n",
    "        print(\"Invalid operation: please choose 'multiply' or 'divide'.\")"
   ]
  },
  {
   "cell_type": "markdown",
   "metadata": {},
   "source": [
    "<p style='font-size:1.75rem;line-height:1.5'>\n",
    "    Call the function <code>multiply_or_divide</code> to multiply 7 by 9.\n",
    "    </p>"
   ]
  },
  {
   "cell_type": "code",
   "execution_count": null,
   "metadata": {},
   "outputs": [],
   "source": [
    "# Multiply 7 by 9 using multiply_or_divide\n",
    "\n"
   ]
  },
  {
   "cell_type": "markdown",
   "metadata": {},
   "source": [
    "<p style='font-size:1.75rem;line-height:1.5'>\n",
    "    Now call the function again, but use it to divide any two numbers.\n",
    "    </p>"
   ]
  },
  {
   "cell_type": "code",
   "execution_count": null,
   "metadata": {},
   "outputs": [],
   "source": [
    "# Multiply two numbers using multiply_or_divide\n",
    "\n"
   ]
  },
  {
   "cell_type": "markdown",
   "metadata": {},
   "source": [
    "<p style='font-size:1.75rem;line-height:1.5'>\n",
    "    Now let's make a basic calculator!\n",
    "    </p>\n",
    "<p style='font-size:1.75rem;line-height:1.5'>\n",
    "    Extend the <code>multiply_or_divide</code> function by making it able to add and subtract as well. We will name this new function <code>calculator</code>.\n",
    "    </p>"
   ]
  },
  {
   "cell_type": "code",
   "execution_count": null,
   "metadata": {},
   "outputs": [],
   "source": [
    "def calculator(num1, num2, operation):\n",
    "    if operation == 'multiply':\n",
    "        return num1 * num2\n",
    "    elif operation == 'divide':\n",
    "        return float(num1) / num2  # convert to float to do normal division\n",
    "    \n",
    "    # Add conditionals for addition and subtraction here\n",
    "    \n",
    "    \n",
    "    \n",
    "    \n",
    "    else:\n",
    "        print(\"Invalid operation\")"
   ]
  },
  {
   "cell_type": "markdown",
   "metadata": {},
   "source": [
    "<p style='font-size:1.75rem;line-height:1.5'>\n",
    "    Call the <code>calculator</code> function here! Add and subtract the numbers 6 and 7. You should get 13 and -1 respectively.\n",
    "    </p>"
   ]
  },
  {
   "cell_type": "code",
   "execution_count": null,
   "metadata": {},
   "outputs": [],
   "source": [
    "# Add 6 and 7 using calculator\n",
    "\n",
    "\n",
    "# Subtract 6 from 7 using calculator\n",
    "\n"
   ]
  },
  {
   "cell_type": "markdown",
   "metadata": {},
   "source": [
    "# Largest Number"
   ]
  },
  {
   "cell_type": "markdown",
   "metadata": {},
   "source": [
    "<p style='font-size:1.75rem;line-height:1.5'>\n",
    "    Let's say we want to write a function that finds the largest of four numbers. One way to do this is with four conditional statements, like this:\n",
    "    </p>"
   ]
  },
  {
   "cell_type": "code",
   "execution_count": null,
   "metadata": {},
   "outputs": [],
   "source": [
    "def largest_of_four(num1, num2, num3, num4):\n",
    "    if num1 > num2 and num1 > num3 and num1 > num4:\n",
    "        return num1\n",
    "    elif num2 > num3 and num2 > num4:\n",
    "        return num2\n",
    "    elif num3 > num4:\n",
    "        return num3\n",
    "    else:\n",
    "        return num4\n",
    "\n",
    "largest_of_four(5, 7, 3, 2)"
   ]
  },
  {
   "cell_type": "markdown",
   "metadata": {},
   "source": [
    "<p style='font-size:1.75rem;line-height:1.5'>\n",
    "    As we can see, the function returns the correct result, but it is a bit confusing to read. Let's try to make this function simpler and more readable by defining a <strong>helper function</strong>:\n",
    "    </p>"
   ]
  },
  {
   "cell_type": "code",
   "execution_count": null,
   "metadata": {
    "scrolled": true
   },
   "outputs": [],
   "source": [
    "def largest_of_two(num1, num2):\n",
    "    if num1 > num2:\n",
    "        return num1\n",
    "    else:\n",
    "        return num2\n",
    "    \n",
    "largest_of_two(4, 2)"
   ]
  },
  {
   "cell_type": "markdown",
   "metadata": {},
   "source": [
    "<p style='font-size:1.75rem;line-height:1.5'>\n",
    "    We can call functions anywhere, even inside of other functions! Now let's use it in our <code>largest_of_four</code> function! <strong>Discuss</strong> with your partner how this function works.\n",
    "    </p>"
   ]
  },
  {
   "cell_type": "code",
   "execution_count": null,
   "metadata": {},
   "outputs": [],
   "source": [
    "def largest_of_four(num1, num2, num3, num4):\n",
    "    big1 = largest_of_two(num1, num2)\n",
    "    big2 = largest_of_two(num3, num4)\n",
    "    largest = largest_of_two(big1, big2)\n",
    "    return largest\n",
    "\n",
    "largest_of_four(5, 7, 3, 2)"
   ]
  },
  {
   "cell_type": "markdown",
   "metadata": {},
   "source": [
    "<p style='font-size:1.75rem;line-height:1.5'>\n",
    "    Let's go further! Make a <code>largest_of_ten</code> function using our <code>largest_of_four</code> and/or <code>largest_of_two</code> functions from above.\n",
    "    </p>"
   ]
  },
  {
   "cell_type": "code",
   "execution_count": null,
   "metadata": {
    "scrolled": true
   },
   "outputs": [],
   "source": [
    "# Define your function here\n",
    "\n"
   ]
  },
  {
   "cell_type": "markdown",
   "metadata": {},
   "source": [
    "<p style='font-size:1.75rem;line-height:1.5'>\n",
    "    Call <code>largest_of_ten</code>, giving it the arguments:\n",
    "    </p>\n",
    "\n",
    "```\n",
    "78, 42, 14, 96, 64, 85, 94, 86, 64, 32\n",
    "```\n",
    "<p style='font-size:1.75rem;line-height:1.5'>\n",
    "    The function should return <code>96</code>.\n",
    "    </p>"
   ]
  },
  {
   "cell_type": "code",
   "execution_count": null,
   "metadata": {},
   "outputs": [],
   "source": [
    "# Call largest_of_ten on the above arguements\n",
    "\n"
   ]
  },
  {
   "cell_type": "markdown",
   "metadata": {},
   "source": [
    "<p style='font-size:1.75rem;line-height:1.5'>\n",
    "    By the way, Python has the built in functions <code>max</code> and <code>min</code> which find the largest and smallest number for any number of arguments.\n",
    "    </p>"
   ]
  }
 ],
 "metadata": {
  "kernelspec": {
   "display_name": "Python 2",
   "language": "python",
   "name": "python2"
  },
  "language_info": {
   "codemirror_mode": {
    "name": "ipython",
    "version": 2
   },
   "file_extension": ".py",
   "mimetype": "text/x-python",
   "name": "python",
   "nbconvert_exporter": "python",
   "pygments_lexer": "ipython2",
   "version": "2.7.16"
  }
 },
 "nbformat": 4,
 "nbformat_minor": 2
}

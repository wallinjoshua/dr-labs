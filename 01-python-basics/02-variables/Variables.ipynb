{
 "cells": [
  {
   "cell_type": "code",
   "execution_count": null,
   "metadata": {},
   "outputs": [],
   "source": [
    "# suppress automatic output\n",
    "from IPython.core.interactiveshell import InteractiveShell\n",
    "InteractiveShell.ast_node_interactivity = \"none\""
   ]
  },
  {
   "cell_type": "markdown",
   "metadata": {},
   "source": [
    "# Variables\n",
    "\n",
    "<p style='font-size:1.75rem;line-height:1.5'>\n",
    "    Imagine that you have <b style=\"color:red\">data that changes over time</b> (e.g. racecar speed, direction), or that you want to write code that is <b style=\"color:red\">easy to reuse</b>.\n",
    "    </p>\n",
    "    \n",
    "<p style='font-size:1.75rem;line-height:1.5'>\n",
    "    We can use placeholders, or <b style=\"color:blue\">variables</b>. Variables allow us to save and change data throughout a program.\n",
    "    </p>\n",
    "    \n",
    "<p style='font-size:1.75rem;line-height:1.5'>\n",
    "    In this lab, we will be learning how to <b style=\"color:blue\">define and use variables</b> in Python.\n",
    "    </p>"
   ]
  },
  {
   "cell_type": "markdown",
   "metadata": {},
   "source": [
    "# Assignment\n",
    "\n",
    "<p style='font-size:1.75rem;line-height:1.5'>\n",
    "    We can use the <b style=\"color:blue\">assignment operator</b> <code>=</code> to assign values (of any data type) to variables. \n",
    "    <br>For example:\n",
    "    </p>\n",
    "<ul style='font-size:1.75rem;line-height:1.5'>\n",
    "    <li><code>name = 'Augustus'</code></li>\n",
    "    <li><code>age = 26</code></li>\n",
    "    <li><code>glasses = True</code></li>\n",
    "</ul>"
   ]
  },
  {
   "cell_type": "markdown",
   "metadata": {},
   "source": [
    "<p style='font-size:1.75rem;line-height:1.5'>\n",
    "    Assign a grade (string, integer, or float) to a variable called <code>grade</code>. Then print the variable.\n",
    "    </p>"
   ]
  },
  {
   "cell_type": "code",
   "execution_count": null,
   "metadata": {
    "scrolled": false
   },
   "outputs": [],
   "source": [
    "# Start your code here\n",
    "\n"
   ]
  },
  {
   "cell_type": "markdown",
   "metadata": {},
   "source": [
    "# Using Variables\n",
    "\n",
    "<p style='font-size:1.75rem;line-height:1.5'>\n",
    "    Once we have assigned a variable, we can <b style=\"color:blue\">use it in place of that value!</b>\n",
    "    </p>"
   ]
  },
  {
   "cell_type": "markdown",
   "metadata": {},
   "source": [
    "<p style='font-size:1.75rem;line-height:1.5'>\n",
    "    Set the variable <code>x</code> to a number. Then multiply <code>x</code> by 2 and print the result.\n",
    "    </p>"
   ]
  },
  {
   "cell_type": "code",
   "execution_count": null,
   "metadata": {},
   "outputs": [],
   "source": [
    "# Assign x to a number\n",
    "\n",
    "\n",
    "# Print x multiplied by 2\n",
    "\n"
   ]
  },
  {
   "cell_type": "markdown",
   "metadata": {},
   "source": [
    "<p style='font-size:1.75rem;line-height:1.5'>\n",
    "    Set the variable <code>name</code> to your name (a string). Then print <code>'Hello ' + name + '!'</code>\n",
    "    </p>"
   ]
  },
  {
   "cell_type": "code",
   "execution_count": null,
   "metadata": {
    "scrolled": true
   },
   "outputs": [],
   "source": [
    "# Assign name to a string\n",
    "\n",
    "\n",
    "# Print out 'Hello ' + name + '!'\n",
    "\n"
   ]
  },
  {
   "cell_type": "markdown",
   "metadata": {},
   "source": [
    "# Naming Variables\n",
    "<p style='font-size:1.75rem;line-height:1.5'>\n",
    "    A variable name can only contain letters (a&ndash;z, A&ndash;Z), digits (0&ndash;9), and the underscore <code>_</code>. Note that variable names <b style=\"color:red\">cannot begin with numbers</b> and <b style=\"color:red\">cannot contain spaces</b>. For example:\n",
    "    </p>\n",
    "    \n",
    "<ul style='font-size:1.75rem;line-height:1.5'>\n",
    "    <li>Valid variable names: <code>GPA</code>, <code>student_1</code>, <code>_bEaVeR_w0rKs_</code>\n",
    "    <li>Invalid variable names: <code>1_student</code>, <code>Beaver Works</code>, <code>&euro;&bdquo;&lsaquo;&acute;&permil;</code>\n",
    "</ul>"
   ]
  },
  {
   "cell_type": "markdown",
   "metadata": {},
   "source": [
    "<p style='font-size:1.75rem;line-height:1.5'>\n",
    "    Assign a number to a variable name with letters, digits, and an underscore <code>_</code>.\n",
    "    </p>"
   ]
  },
  {
   "cell_type": "code",
   "execution_count": null,
   "metadata": {},
   "outputs": [],
   "source": [
    "# Start your code here\n",
    "\n"
   ]
  },
  {
   "cell_type": "markdown",
   "metadata": {},
   "source": [
    "<p style='font-size:1.75rem;line-height:1.5'>\n",
    "    Assign a string to a variable name with only upper case letters.\n",
    "    </p>"
   ]
  },
  {
   "cell_type": "code",
   "execution_count": null,
   "metadata": {},
   "outputs": [],
   "source": [
    "# Start your code here\n",
    "\n"
   ]
  },
  {
   "cell_type": "markdown",
   "metadata": {},
   "source": [
    "<p style='font-size:1.75rem;line-height:1.5'>\n",
    "    Now print the two variables you made!\n",
    "    </p>"
   ]
  },
  {
   "cell_type": "code",
   "execution_count": null,
   "metadata": {},
   "outputs": [],
   "source": [
    "# Start your code here\n",
    "\n"
   ]
  },
  {
   "cell_type": "markdown",
   "metadata": {},
   "source": [
    "# Other Restrictions\n",
    "\n",
    "<p style='font-size:1.75rem;line-height:1.5'>\n",
    "    <b style=\"color:red\">Variables also cannot be Python keywords.</b> For example, don't name your variables:\n",
    "    </p>\n",
    "\n",
    "```python\n",
    "True, False, None, is, not, and, or, for, if, elif, else, def\n",
    "```\n",
    "\n",
    "<p style='font-size:1.75rem;line-height:1.5'>\n",
    "    There are many others. These words should turn <b style=\"color:green\">green</b> when you type them, which should help you know not to use them.\n",
    "    </p>\n",
    "<p style='font-size:1.75rem;line-height:1.5'>\n",
    "    You should also not use names already used in Python, such as <code>str</code> or <code>int</code>, although they are technically allowed.\n",
    "    </p>"
   ]
  },
  {
   "cell_type": "markdown",
   "metadata": {},
   "source": [
    "<p style='font-size:1.75rem;line-height:1.5'>\n",
    "    Which of the following are valid variable names? First think with your partner and then run each code block to see if you get an error.\n",
    "    </p>"
   ]
  },
  {
   "cell_type": "code",
   "execution_count": null,
   "metadata": {},
   "outputs": [],
   "source": [
    "_test1 = 10"
   ]
  },
  {
   "cell_type": "code",
   "execution_count": null,
   "metadata": {},
   "outputs": [],
   "source": [
    "2test = \"is this valid?\""
   ]
  },
  {
   "cell_type": "code",
   "execution_count": null,
   "metadata": {
    "scrolled": true
   },
   "outputs": [],
   "source": [
    "is = 4"
   ]
  },
  {
   "cell_type": "code",
   "execution_count": null,
   "metadata": {
    "scrolled": true
   },
   "outputs": [],
   "source": [
    "# Don't do this!\n",
    "float = int\n",
    "float(3.99)"
   ]
  },
  {
   "cell_type": "markdown",
   "metadata": {},
   "source": [
    "# Naming Conventions\n",
    "\n",
    "<p style='font-size:1.75rem;line-height:1.5'>\n",
    "    There are <b style=\"color:blue\">two main naming conventions</b> for variable names with multiple words:\n",
    "    </p>\n",
    "<ul style='font-size:1.75rem;line-height:1.5'>\n",
    "    <li><code>camelCase</code>: First word is lower case and following words are capitalized.</li>\n",
    "    <li><code>snake_case</code>: All words are lower case and separated by underscores.</li>\n",
    "</ul>\n",
    "<p style='font-size:1.75rem;line-height:1.5'>\n",
    "    In Python, we typically use <code>snake_case</code>.\n",
    "    </p>"
   ]
  },
  {
   "cell_type": "markdown",
   "metadata": {},
   "source": [
    "<p style='font-size:1.75rem;line-height:1.5'> \n",
    "Create a variable name with the words <code>cat</code> and <code>name</code>, combining the two words in snake_case style. Then,  assign and print a string of your preferred cat name to this variable!\n",
    "    </p>"
   ]
  },
  {
   "cell_type": "code",
   "execution_count": null,
   "metadata": {},
   "outputs": [],
   "source": [
    "# Start your code here\n",
    "\n"
   ]
  },
  {
   "cell_type": "markdown",
   "metadata": {},
   "source": [
    "# <b style=\"color:red\">--- STOP HERE --- </b>\n",
    "\n",
    "---"
   ]
  },
  {
   "cell_type": "markdown",
   "metadata": {},
   "source": [
    "# Reassignment\n",
    "\n",
    "<p style='font-size:1.75rem;line-height:1.5'>\n",
    "    Variables that already exist can be <b style=\"color:blue\">reassigned to different values.</b>\n",
    "    </p>"
   ]
  },
  {
   "cell_type": "markdown",
   "metadata": {},
   "source": [
    "<p style='font-size:1.75rem;line-height:1.5'>\n",
    "    Go through the example below to see this in action.\n",
    "    </p>"
   ]
  },
  {
   "cell_type": "code",
   "execution_count": null,
   "metadata": {},
   "outputs": [],
   "source": [
    "# Assign a value to a variable \n",
    "\n",
    "\n",
    "# Print the variable\n",
    "\n",
    "\n",
    "# Reassign a different value to the variable\n",
    "\n",
    "\n",
    "# Has the variable value changed? (Check by printing)\n",
    "\n"
   ]
  },
  {
   "cell_type": "markdown",
   "metadata": {},
   "source": [
    "<p style='font-size:1.75rem;line-height:1.5'>\n",
    "    When we reassign, the <b style=\"color:blue\">right side is evaluated first</b> before the reassignment takes place. This means that we can reassign a variable in terms of itself. For example, we can add one to a variable like this:\n",
    "    </p>\n",
    "\n",
    "```python\n",
    "x = 10\n",
    "x = x + 1\n",
    "```"
   ]
  },
  {
   "cell_type": "markdown",
   "metadata": {},
   "source": [
    "<p style='font-size:1.75rem;line-height:1.5'>\n",
    "    Now <code>x</code> is equal to <code>11</code>. Try doubling a variable in the example below.\n",
    "    </p>"
   ]
  },
  {
   "cell_type": "code",
   "execution_count": null,
   "metadata": {},
   "outputs": [],
   "source": [
    "# Create a new variable. Assign it an integer.\n",
    "\n",
    "\n",
    "# Set the variable equal to two times itself\n",
    "\n",
    "\n",
    "# Now print the variable\n",
    "\n"
   ]
  },
  {
   "cell_type": "markdown",
   "metadata": {},
   "source": [
    "<p style='font-size:1.75rem;line-height:1.5'>\n",
    "    <b style=\"color:blue\">Swapping variables</b> means that we have two variables (e.g. <code>A</code> and <code>B</code>), and we want to change the new value of <code>A</code> to be equal to the old value of <code>B</code>, and new value of <code>B</code> to be equal to the old value of <code>A</code>.\n",
    "    </p>"
   ]
  },
  {
   "cell_type": "markdown",
   "metadata": {},
   "source": [
    "<p style='font-size:1.75rem;line-height:1.5'>\n",
    "    Try to swap the two variables below by using a third variable.\n",
    "    </p>"
   ]
  },
  {
   "cell_type": "code",
   "execution_count": null,
   "metadata": {},
   "outputs": [],
   "source": [
    "# Swap the variables by using a third variable \n",
    "\n",
    "\n",
    "\n",
    "# Print A and B to check if the values have swapped\n",
    "\n"
   ]
  },
  {
   "cell_type": "markdown",
   "metadata": {},
   "source": [
    "# Assignment Operations \n",
    "<p style='font-size:1.75rem;line-height:1.5'>\n",
    "    Assignment operations are <b style=\"color:blue\">extentions of the <code>=</code> assignment operator.</b> They are <b style=\"color:blue\">shortcuts</b> that allow us to do an operation and reassign a variable in one step.\n",
    "    </p>\n",
    "<ul style='font-size:1.75rem;line-height:1.5'>\n",
    "    <li><code>+=</code>: Adds value to variable.</li>\n",
    "    <li><code>-=</code>: Subtracts value from variable.</li>\n",
    "    <li><code>*=</code>: Multiplies variable by value.</li>\n",
    "    <li><code>/=</code>: Divides variable by value.</li>\n",
    "    <li><code>%=</code>: Sets variable to remainder of division by value.</li>\n",
    "</ul>\n",
    "<p style='font-size:1.75rem;line-height:1.5'>\n",
    "    These are just shortcuts. For example, <code>x += 1</code> is the same as <code>x = x + 1</code>.\n",
    "    </p>"
   ]
  },
  {
   "cell_type": "markdown",
   "metadata": {},
   "source": [
    "<p style='font-size:1.75rem;line-height:1.5'>\n",
    "    Try tripling a variable below.\n",
    "    </p>"
   ]
  },
  {
   "cell_type": "code",
   "execution_count": null,
   "metadata": {},
   "outputs": [],
   "source": [
    "# Create a new variable. Assign it an integer.\n",
    "\n",
    "\n",
    "# Set the variable equal to three times itself using *=\n",
    "\n",
    "\n",
    "# Now print the variable\n",
    "\n"
   ]
  },
  {
   "cell_type": "markdown",
   "metadata": {},
   "source": [
    "<p style='font-size:1.75rem;line-height:1.5'>\n",
    "    These also work on strings. Add the string <code>'CAR'</code> to the variable <code>robot</code>."
   ]
  },
  {
   "cell_type": "code",
   "execution_count": null,
   "metadata": {},
   "outputs": [],
   "source": [
    "robot = 'RACE'\n",
    "\n",
    "# Add 'CAR' to the robot variable using +=\n",
    "\n",
    "\n",
    "# Print the robot variable\n",
    "\n"
   ]
  },
  {
   "cell_type": "markdown",
   "metadata": {},
   "source": [
    "# Greeter\n",
    "<p style='font-size:1.75rem;line-height:1.5'>\n",
    "    The function <code>raw_input()</code> takes <b style=\"color:blue\">input from the user</b> and <b style=\"color:blue\">returns the input as a string</b>. Don't worry too much about how this works, just know that the response is saved as a string in the variable <code>name</code>.\n",
    "    </p>"
   ]
  },
  {
   "cell_type": "markdown",
   "metadata": {},
   "source": [
    "<p style='font-size:1.75rem;line-height:1.5'>\n",
    "    Using string concatenation and the variable <code>name</code>, greet the person. For example, if the name is Alex, you might print:\n",
    "    </p>\n",
    "\n",
    "```\n",
    "Hello Alex!\n",
    "```"
   ]
  },
  {
   "cell_type": "code",
   "execution_count": null,
   "metadata": {},
   "outputs": [],
   "source": [
    "name = raw_input('Hello! What is your name: ')\n",
    "\n",
    "# Greet the person\n",
    "\n"
   ]
  },
  {
   "cell_type": "markdown",
   "metadata": {},
   "source": [
    "# Total Age\n",
    "\n",
    "<p style='font-size:1.75rem;line-height:1.5'>\n",
    "    Choose four friends or family members, and print out their total age by adding the ages together. This problem can be done without using variables, but variables help us keep track of the ages, and save them for later.\n",
    "    </p>"
   ]
  },
  {
   "cell_type": "code",
   "execution_count": null,
   "metadata": {},
   "outputs": [],
   "source": [
    "# Assign variables for the ages of four family members or friends\n",
    "\n",
    "\n",
    "# Print out the total age of the four\n",
    "\n"
   ]
  },
  {
   "cell_type": "markdown",
   "metadata": {},
   "source": [
    "<p style='font-size:1.75rem;line-height:1.5'>\n",
    "    Now suppose that 7 years have passed. Add <code>years</code> to each variable and print the new total age.\n",
    "    </p>"
   ]
  },
  {
   "cell_type": "code",
   "execution_count": null,
   "metadata": {},
   "outputs": [],
   "source": [
    "years = 7\n",
    "\n",
    "# Add years to each variable\n",
    "\n",
    "\n",
    "# Print out the total age of the four\n",
    "\n"
   ]
  },
  {
   "cell_type": "markdown",
   "metadata": {},
   "source": [
    "## Sum of numbers\n",
    "<p style='font-size:1.75rem;line-height:1.5'>\n",
    "    Create a program that accepts 5 numbers from user input, and returns the sum of those numbers.\n",
    "    </p>\n",
    "    \n",
    "<p style='font-size:1.75rem;line-height:1.5'>\n",
    "    <strong>Hint:</strong> Cast the results of the user input into integers. \n",
    "    </p>"
   ]
  },
  {
   "cell_type": "code",
   "execution_count": null,
   "metadata": {},
   "outputs": [],
   "source": [
    "# Start your code here. \n",
    "# Hint: Ask for user input 5 times, then assign the result to different variables.\n",
    "\n"
   ]
  },
  {
   "cell_type": "markdown",
   "metadata": {},
   "source": [
    "## Paragraph generator\n",
    "<p style='font-size:1.75rem;line-height:1.5'>\n",
    "    Create a program that takes in 4 sentences and puts them into a paragraph format.\n",
    "    </p>\n",
    "\n",
    "<p style='font-size:1.75rem;line-height:1.5'>\n",
    "    Your paragraph should have an indent on the first line.\n",
    "    </p>"
   ]
  },
  {
   "cell_type": "code",
   "execution_count": null,
   "metadata": {},
   "outputs": [],
   "source": [
    "# Start your code here. \n",
    "\n"
   ]
  },
  {
   "cell_type": "markdown",
   "metadata": {},
   "source": [
    "## Alexa\n",
    "<p style='font-size:1.75rem;line-height:1.5'>\n",
    "    Create an Alexa-type program that accepts player input and responds.\n",
    "    </p>\n",
    "\n",
    "<p style='font-size:1.75rem;line-height:1.5'>\n",
    "    For example:\n",
    "    </p>\n",
    "<p style='font-size:1.75rem;line-height:1.5'>\n",
    "    Alexa: Hi, what is your name?\n",
    "    </p>\n",
    "\n",
    "<p style='font-size:1.75rem;line-height:1.5'>\n",
    "    User: Dan Bi\n",
    "    </p>\n",
    "<p style='font-size:1.75rem;line-height:1.5'>\n",
    "    Alexa: Hi Dan Bi! What sport do you play?\n",
    "    </p>\n",
    "    \n",
    "<p style='font-size:1.75rem;line-height:1.5'>\n",
    "    User: Crew\n",
    "    </p>\n",
    "\n",
    "<p style='font-size:1.75rem;line-height:1.5'>\n",
    "    Alexa: Crew is a good sport! What is your favorite food?\n",
    "    </p>\n",
    "    \n",
    "<p style='font-size:1.75rem;line-height:1.5'>\n",
    "    User: Pizza\n",
    "    </p>\n",
    "    \n",
    "<p style='font-size:1.75rem;line-height:1.5'>\n",
    "    Alexa: Pizza is so delicious!\n",
    "    </p>\n",
    "    \n",
    "<p style='font-size:1.75rem;line-height:1.5'>\n",
    "    <strong>Hint:</strong> Store the user input as a variable. Then print it out with another string as Alexa's response.\n",
    "    </p>"
   ]
  },
  {
   "cell_type": "code",
   "execution_count": null,
   "metadata": {},
   "outputs": [],
   "source": [
    "# Start your code here.\n",
    "\n"
   ]
  }
 ],
 "metadata": {
  "kernelspec": {
   "display_name": "Python 2",
   "language": "python",
   "name": "python2"
  },
  "language_info": {
   "codemirror_mode": {
    "name": "ipython",
    "version": 2
   },
   "file_extension": ".py",
   "mimetype": "text/x-python",
   "name": "python",
   "nbconvert_exporter": "python",
   "pygments_lexer": "ipython2",
   "version": "2.7.16"
  }
 },
 "nbformat": 4,
 "nbformat_minor": 2
}

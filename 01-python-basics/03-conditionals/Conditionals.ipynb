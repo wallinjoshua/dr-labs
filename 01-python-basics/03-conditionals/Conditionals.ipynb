{
 "cells": [
  {
   "cell_type": "code",
   "execution_count": null,
   "metadata": {},
   "outputs": [],
   "source": [
    "# suppress automatic output\n",
    "from IPython.core.interactiveshell import InteractiveShell\n",
    "InteractiveShell.ast_node_interactivity = \"none\""
   ]
  },
  {
   "cell_type": "markdown",
   "metadata": {},
   "source": [
    "# Conditional Statements\n",
    "\n",
    "<p style='font-size:1.75rem;line-height:1.5'>\n",
    "    <b style=\"color:red\">Conditional statements</b> tell the program <b style=\"color:blue\">when to run a particular block of code</b>. Often, we only want something to happen when a certain <b style=\"color:blue\">condition is met</b>.\n",
    "    </p>\n",
    "    \n",
    "<p style='font-size:1.75rem;line-height:1.5'>  \n",
    "    For example, we might want a robot to stop if it is a particular distance from a wall.\n",
    "    </p>\n",
    "    \n",
    "<p style='font-size:1.75rem;line-height:1.5'>\n",
    "    In Python, we can use <b style=\"color:red\">comparison operators</b> along with the keywords <code>if</code>, <code>else</code>, and <code>elif</code> to write conditional statements.\n",
    "    </p>"
   ]
  },
  {
   "cell_type": "markdown",
   "metadata": {},
   "source": [
    "# Comparing Numbers\n",
    "\n",
    "<p style='font-size:1.75rem;line-height:1.5'>\n",
    "    We often need to know whether one number is <b style=\"color:blue\">larger than</b>, <b style=\"color:red\">less than</b>, or <b>equal to</b> another. The following operators allow us to do this:\n",
    "    </p>\n",
    "<ul style='font-size:1.75rem;line-height:1.5'>\n",
    "    <li><code>&lt;</code>: less than</li>\n",
    "    <li><code>&lt;=</code>: less than or equal to</li>\n",
    "    <li><code>&gt;</code>: greater than</li>\n",
    "    <li><code>&gt;=</code>: greater than or equal to</li>\n",
    "    <li><code>==</code>: is equal to</li>\n",
    "    <li><code>!=</code>: is not equal to</li>\n",
    "    <li><code>is</code>: is identical to</li>\n",
    "    <li><code>is not</code>: not identical to</li>\n",
    "</ul>"
   ]
  },
  {
   "cell_type": "markdown",
   "metadata": {},
   "source": [
    "<p style='font-size:1.75rem;line-height:1.5'>\n",
    "    Check if two numbers (either int or float) are <b>equal</b>.\n",
    "    <br>Remember to <b style=\"color:red\">print</b> the output!!!!\n",
    "    </p>"
   ]
  },
  {
   "cell_type": "code",
   "execution_count": null,
   "metadata": {},
   "outputs": [],
   "source": [
    "# Start your code here\n",
    "\n"
   ]
  },
  {
   "cell_type": "markdown",
   "metadata": {},
   "source": [
    "<p style='font-size:1.75rem;line-height:1.5'>\n",
    "    Check if one number is <strong>less than</strong> another.\n",
    "    </p>"
   ]
  },
  {
   "cell_type": "code",
   "execution_count": null,
   "metadata": {},
   "outputs": [],
   "source": [
    "# Start your code here\n",
    "\n"
   ]
  },
  {
   "cell_type": "markdown",
   "metadata": {},
   "source": [
    "<p style='font-size:1.75rem;line-height:1.5'>\n",
    "    Check if one number is <strong>greater than or equal to</strong> another.\n",
    "    </p>"
   ]
  },
  {
   "cell_type": "code",
   "execution_count": null,
   "metadata": {},
   "outputs": [],
   "source": [
    "# Start your code here\n",
    "\n"
   ]
  },
  {
   "cell_type": "markdown",
   "metadata": {},
   "source": [
    "<p style='font-size:1.75rem;line-height:1.5'>\n",
    "    Compare <code>2</code> and <code>2</code> using <code>&gt;</code>. Is the result <b>what you expected</b>?\n",
    "    </p>"
   ]
  },
  {
   "cell_type": "code",
   "execution_count": null,
   "metadata": {},
   "outputs": [],
   "source": [
    "# Start your code here\n",
    "\n"
   ]
  },
  {
   "cell_type": "markdown",
   "metadata": {},
   "source": [
    "<p style='font-size:1.75rem;line-height:1.5'>\n",
    "    Compare <code>2</code> and <code>2</code> using <code>&gt;=</code>. Is the result <b>what you expected</b>?\n",
    "    </p>"
   ]
  },
  {
   "cell_type": "code",
   "execution_count": null,
   "metadata": {},
   "outputs": [],
   "source": [
    "# Start your code here\n",
    "\n"
   ]
  },
  {
   "cell_type": "markdown",
   "metadata": {},
   "source": [
    "<p style='font-size:1.75rem;line-height:1.5'>\n",
    "    Compare <code>2</code> and <code>2.0</code> using <code>==</code>. \n",
    "    <br><b style=\"color:red\">Before running it</b>, what do you expect the result to be? \n",
    "    <br> What does the result tell us about how <code>==</code> <b style=\"color:blue\">compares integers and floats?</b>\n",
    "    </p>"
   ]
  },
  {
   "cell_type": "code",
   "execution_count": null,
   "metadata": {},
   "outputs": [],
   "source": [
    "# Start your code here\n",
    "\n"
   ]
  },
  {
   "cell_type": "markdown",
   "metadata": {},
   "source": [
    "<p style='font-size:1.75rem;line-height:1.5'>\n",
    "    Compare <code>2</code> and <code>2.0</code> using <code>is</code>. \n",
    "    <br> <b style=\"color:red\">Before running it</b>, do you expect the result to be? \n",
    "    <br> What does the result tell us about how <code>is</code> <b style=\"color:blue\">compares integers and floats?</b>\n",
    "    </p>"
   ]
  },
  {
   "cell_type": "code",
   "execution_count": null,
   "metadata": {},
   "outputs": [],
   "source": [
    "# Start your code here\n",
    "\n"
   ]
  },
  {
   "cell_type": "markdown",
   "metadata": {},
   "source": [
    "# Comparing Booleans\n",
    "<p style='font-size:1.75rem;line-height:1.5'>\n",
    "    <b style=\"color:blue\">Booleans can be compared</b> using the <code>==</code>, <code>!=</code>, <code>is</code>, and <code>is not</code> operators.\n",
    "    </p>"
   ]
  },
  {
   "cell_type": "markdown",
   "metadata": {},
   "source": [
    "<p style='font-size:1.75rem;line-height:1.5'>\n",
    "    Check if <code>True</code> is <strong>equal to</strong> <code>False</code> using <code>==</code>.\n",
    "    </p>"
   ]
  },
  {
   "cell_type": "code",
   "execution_count": null,
   "metadata": {},
   "outputs": [],
   "source": [
    "# Start your code here\n",
    "\n"
   ]
  },
  {
   "cell_type": "markdown",
   "metadata": {},
   "source": [
    "<p style='font-size:1.75rem;line-height:1.5'>\n",
    "    Check if <code>False</code> is <strong>equal to</strong> <code>0</code> using <code>==</code>. \n",
    "    <br> <b style=\"color:red\">Before running it</b>, do you expect the result to be? \n",
    "    <br> What does the result tell us about how <code>==</code> <b style=\"color:blue\">compares booleans and zero?</b>\n",
    "    </p>"
   ]
  },
  {
   "cell_type": "code",
   "execution_count": null,
   "metadata": {},
   "outputs": [],
   "source": [
    "# Start your code here\n",
    "\n"
   ]
  },
  {
   "cell_type": "markdown",
   "metadata": {},
   "source": [
    "<p style='font-size:1.75rem;line-height:1.5'>\n",
    "    Check if <code>False</code> is <strong>identical to</strong> <code>0</code> using <code>is</code>. \n",
    "    <br> <b style=\"color:red\">Before running it</b>, do you expect the result to be? \n",
    "    <br>What does the result tell us about how <code>is</code> <b style=\"color:blue\">compares booleans and zero?</b>\n",
    "    </p>"
   ]
  },
  {
   "cell_type": "code",
   "execution_count": null,
   "metadata": {},
   "outputs": [],
   "source": [
    "# Start your code here\n",
    "\n"
   ]
  },
  {
   "cell_type": "markdown",
   "metadata": {},
   "source": [
    "# Comparing Strings\n",
    "\n",
    "<p style='font-size:1.75rem;line-height:1.5'>\n",
    "    We can <b style=\"color:blue\">compare strings</b> using the <code>==</code>, <code>!=</code>, <code>is</code>, and <code>is not</code> operators.\n",
    "    <br><b style=\"color:red\">For strings</b>, <code>==</code> and <code>is</code> generally do the same thing.\n",
    "    </p>"
   ]
  },
  {
   "cell_type": "markdown",
   "metadata": {},
   "source": [
    "<p style='font-size:1.75rem;line-height:1.5'>\n",
    "    Check if two strings are <strong>equal</strong> using <code>==</code>.\n",
    "    </p>"
   ]
  },
  {
   "cell_type": "code",
   "execution_count": null,
   "metadata": {},
   "outputs": [],
   "source": [
    "# Start your code here\n",
    "\n"
   ]
  },
  {
   "cell_type": "markdown",
   "metadata": {},
   "source": [
    "<p style='font-size:1.75rem;line-height:1.5'>\n",
    "    Check if two strings are <strong>not identical</strong> using <code>is not</code>.\n",
    "    </p>"
   ]
  },
  {
   "cell_type": "code",
   "execution_count": null,
   "metadata": {},
   "outputs": [],
   "source": [
    "# Start your code here\n",
    "\n"
   ]
  },
  {
   "cell_type": "markdown",
   "metadata": {},
   "source": [
    "# Logical Operators\n",
    "<p style='font-size:1.75rem;line-height:1.5'>\n",
    "    We can also use the <b style=\"color:blue\">logical operators</b> <code>not</code>, <code>and</code>, and <code>or</code> on booleans to make more complicated logical statements:\n",
    "    </p>\n",
    "<ul style='font-size:1.75rem;line-height:1.5'>\n",
    "    <li><code>not</code>: <code>True</code> if the boolean is <code>False</code>, <code>False</code> otherwise.</li>\n",
    "    <li><code>and</code>: <code>True</code> if <strong>both</strong> booleans are <code>True</code>, <code>False</code> otherwise.</li>\n",
    "    <li><code>or</code>: <code>True</code> if <strong>either</strong> boolean is <code>True</code>, <code>False</code> otherwise.</li>\n",
    "</ul>"
   ]
  },
  {
   "cell_type": "markdown",
   "metadata": {},
   "source": [
    "<p style='font-size:1.75rem;line-height:1.5'>\n",
    "    Run <code>not False</code> below. Is the result what you expected?\n",
    "    </p>"
   ]
  },
  {
   "cell_type": "code",
   "execution_count": null,
   "metadata": {},
   "outputs": [],
   "source": [
    "# Start your code here\n",
    "\n"
   ]
  },
  {
   "cell_type": "markdown",
   "metadata": {},
   "source": [
    "<p style='font-size:1.75rem;line-height:1.5'>\n",
    "    Run <code>True and False</code> below. Is the result what you expected?\n",
    "    </p>"
   ]
  },
  {
   "cell_type": "code",
   "execution_count": null,
   "metadata": {},
   "outputs": [],
   "source": [
    "# Start your code here\n",
    "\n"
   ]
  },
  {
   "cell_type": "markdown",
   "metadata": {},
   "source": [
    "<p style='font-size:1.75rem;line-height:1.5'>\n",
    "    Run <code>True or True</code> below. Is the result what you expected?\n",
    "    </p>"
   ]
  },
  {
   "cell_type": "code",
   "execution_count": null,
   "metadata": {},
   "outputs": [],
   "source": [
    "# Start your code here\n",
    "\n"
   ]
  },
  {
   "cell_type": "markdown",
   "metadata": {},
   "source": [
    "<p style='font-size:1.75rem;line-height:1.5'>\n",
    "    Like mathematical operators, logical operators also have an <b style=\"color:blue\">order of operations</b>: \n",
    "    <ol style='font-size:1.75rem;line-height:2'>\n",
    "        <li><code>()</code></li>\n",
    "        <li><code>not</code></li>\n",
    "        <li><code>and</code></li>\n",
    "        <li> <code>or</code></li>\n",
    "    </ol>\n",
    "    </p>"
   ]
  },
  {
   "cell_type": "markdown",
   "metadata": {},
   "source": [
    "<p style='font-size:1.75rem;line-height:1.5'>\n",
    "    Based on this order, run <code>not False or True and True</code> below. \n",
    "    <br> Is the result what you expected?\n",
    "    </p>"
   ]
  },
  {
   "cell_type": "code",
   "execution_count": null,
   "metadata": {},
   "outputs": [],
   "source": [
    "# Start your code here\n",
    "\n"
   ]
  },
  {
   "cell_type": "markdown",
   "metadata": {},
   "source": [
    "<p style='font-size:1.75rem;line-height:1.5'>\n",
    "    We can also use <b style=\"color:blue\">parenthesis</b> <code>( )</code>. Whatever is inside the parenthesis is evaluated first.\n",
    "    </p>"
   ]
  },
  {
   "cell_type": "markdown",
   "metadata": {},
   "source": [
    "<p style='font-size:1.75rem;line-height:1.5'>\n",
    "    Based on this order, run <code>not (False or True) and True</code> below. \n",
    "    <br> Is the result what you expected?\n",
    "    </p>"
   ]
  },
  {
   "cell_type": "code",
   "execution_count": null,
   "metadata": {},
   "outputs": [],
   "source": [
    "# Start your code here\n",
    "\n"
   ]
  },
  {
   "cell_type": "markdown",
   "metadata": {},
   "source": [
    "# Combining Comparisons\n",
    "<p style='font-size:1.75rem;line-height:1.5'>\n",
    "    As we have seen in previous exercises, comparison statements evaluate to booleans. This means that we can <b style=\"color:blue\">combine multiple comparisons</b> using logical operators!\n",
    "    </p>"
   ]
  },
  {
   "cell_type": "markdown",
   "metadata": {},
   "source": [
    "<p style='font-size:1.75rem;line-height:1.5'>\n",
    "    Run <code>1 > 3 or 4 == 4.0</code> below. Is the result what you expected?\n",
    "    </p>"
   ]
  },
  {
   "cell_type": "code",
   "execution_count": null,
   "metadata": {},
   "outputs": [],
   "source": [
    "# Start your code here\n",
    "\n"
   ]
  },
  {
   "cell_type": "markdown",
   "metadata": {},
   "source": [
    "<p style='font-size:1.75rem;line-height:1.5'>\n",
    "    Run <code>1 == 1 and 1 > -1</code> below. Is the result what you expected?\n",
    "    </p>"
   ]
  },
  {
   "cell_type": "code",
   "execution_count": null,
   "metadata": {},
   "outputs": [],
   "source": [
    "# Start your code here\n",
    "\n"
   ]
  },
  {
   "cell_type": "markdown",
   "metadata": {},
   "source": [
    "<p style='font-size:1.75rem;line-height:1.5'>\n",
    "    Try making your own statement using comparison and logical operators. Do you expect your statement to evaluate to <code>True</code> or <code>False</code>? Why?\n",
    "    </p>"
   ]
  },
  {
   "cell_type": "code",
   "execution_count": null,
   "metadata": {},
   "outputs": [],
   "source": [
    "# Start your code here\n",
    "\n"
   ]
  },
  {
   "cell_type": "markdown",
   "metadata": {},
   "source": [
    "# <b style=\"color:red\">--- STOP HERE --- </b>\n",
    "\n",
    "---"
   ]
  },
  {
   "cell_type": "markdown",
   "metadata": {},
   "source": [
    "# Conditional Statements\n",
    "<p style='font-size:1.75rem;line-height:1.5'>\n",
    "    We can use <code>if</code>, <code>else</code>, and <code>elif</code> in order to tell the program <b style=\"color:blue\">whether to run a particular indented block</b> of code based on a boolean.\n",
    "    </p>\n",
    "<ul style='font-size:1.75rem;line-height:1.5'>\n",
    "    <li><code>if</code>: Run code if boolean is <code>True</code>.</li>\n",
    "    <li><code>elif</code>: Run code if previous conditions are <code>False</code> and boolean is <code>True</code>.</li>\n",
    "    <li><code>else</code>: Run code if previous conditions are <code>False</code>.</li>\n",
    "</ul>"
   ]
  },
  {
   "cell_type": "markdown",
   "metadata": {},
   "source": [
    "<p style='font-size:1.75rem;line-height:1.5'>\n",
    "    Let's start with an example of a simple if statement. What do you expect to be printed for different values of <code>n</code>? Why? Try choosing different numbers and see what happens.\n",
    "    </p>"
   ]
  },
  {
   "cell_type": "code",
   "execution_count": null,
   "metadata": {},
   "outputs": [],
   "source": [
    "# Choose n\n",
    "n = int(raw_input(\"Input n: \"))\n",
    "\n",
    "if n > 10:\n",
    "    print('n is greater than 10')"
   ]
  },
  {
   "cell_type": "markdown",
   "metadata": {},
   "source": [
    "<p style='font-size:1.75rem;line-height:1.5'>\n",
    "    If <code>n</code> is less than or equal to 10, nothing is printed since the condition is false (remember, <code>&gt;</code> means <em>strictly</em> greater than).\n",
    "    </p>\n",
    "<p style='font-size:1.75rem;line-height:1.5'> \n",
    "    We can improve our code by adding an <code>elif</code> statement.\n",
    "    </p>"
   ]
  },
  {
   "cell_type": "markdown",
   "metadata": {},
   "source": [
    "<p style='font-size:1.75rem;line-height:1.5'>\n",
    "    Try running the code again for several numbers and think about what is happening.\n",
    "    <br>Remember, an <code>elif</code> statement only runs the code block if all previous conditions were <code>False</code>.\n",
    "    </p>"
   ]
  },
  {
   "cell_type": "code",
   "execution_count": null,
   "metadata": {},
   "outputs": [],
   "source": [
    "# Choose n\n",
    "n = int(raw_input(\"Input n: \"))\n",
    "\n",
    "if n > 10:\n",
    "    print('n is greater than 10')\n",
    "elif n < 10:\n",
    "    print('n is less than 10')"
   ]
  },
  {
   "cell_type": "markdown",
   "metadata": {},
   "source": [
    "<p style='font-size:1.75rem;line-height:1.5'>\n",
    "    Our code is better, but we still get no feedback if <code>n</code> is exactly 10. An <code>else</code> statement will run if all previous conditions were <code>False</code>.\n",
    "    </p>"
   ]
  },
  {
   "cell_type": "markdown",
   "metadata": {},
   "source": [
    "<p style='font-size:1.75rem;line-height:1.5'>\n",
    "    Try running the following code for different values of <code>n</code>, and make sure to try 10.\n",
    "    </p>"
   ]
  },
  {
   "cell_type": "code",
   "execution_count": null,
   "metadata": {},
   "outputs": [],
   "source": [
    "# Choose n\n",
    "n = int(raw_input(\"Input n: \"))\n",
    "\n",
    "if n > 10:\n",
    "    print('n is greater than 10')\n",
    "elif n < 10:\n",
    "    print('n is less than 10')\n",
    "else:\n",
    "    print('n is 10')"
   ]
  },
  {
   "cell_type": "markdown",
   "metadata": {},
   "source": [
    "<p style='font-size:1.75rem;line-height:1.5'>\n",
    "    We can also nest if statements. Examine the following code and think about what will happen for different values of <code>n</code>. (Remember, an if statement is just a block of code that can be within another if statement!)\n",
    "    </p>"
   ]
  },
  {
   "cell_type": "code",
   "execution_count": null,
   "metadata": {},
   "outputs": [],
   "source": [
    "# Choose n\n",
    "n = int(raw_input(\"Input n: \"))\n",
    "\n",
    "if n > 0:\n",
    "    if n > 10:\n",
    "        print('n is greater than 10')\n",
    "    elif n < 10:\n",
    "        print('n is less than 10')\n",
    "    else:\n",
    "        print('n is 10')\n",
    "else:\n",
    "    print('n is not positive!')"
   ]
  },
  {
   "cell_type": "markdown",
   "metadata": {},
   "source": [
    "# The Candy Party\n",
    "<p style='font-size:1.75rem;line-height:1.5'>\n",
    "    When beavers get together for a party, they like to have candy. A beaver party is successful when the number of candies is between 40 and 60, inclusive. Unless it is the weekend, in which case there is no upper bound on the number of candies.\n",
    "    </p>\n",
    "<p style='font-size:1.75rem;line-height:1.5'>\n",
    "    Print <code>True</code> if the party with the given values is successful, or <code>False</code> otherwise.\n",
    "    </p>\n",
    "<p style='font-size:1.75rem;line-height:1.5'>\n",
    "    Try your code for different values of <code>candies</code> and <code>is_weekend</code> to test it.\n",
    "    </p>"
   ]
  },
  {
   "cell_type": "code",
   "execution_count": null,
   "metadata": {},
   "outputs": [],
   "source": [
    "# Change these to test your code!\n",
    "candies = 0\n",
    "is_weekend = True\n",
    "\n",
    "# Start your code here\n",
    "\n",
    "\n"
   ]
  },
  {
   "cell_type": "markdown",
   "metadata": {},
   "source": [
    "# Tennis Game\n",
    "\n",
    "<p style='font-size:1.75rem;line-height:1.5'>\n",
    "    You are playing doubles in a tennis game. The variable <code>you</code> is your tennis skill level, from 0 to 10. <code>tm</code> is your teammate's tennis skill level, from 0 to 10. Your chances of winning are <code>0</code> = no, <code>1</code> = maybe, and <code>2</code> = yes. Your chances are based on the following conditions:\n",
    "    </p>\n",
    "<ul style='font-size:1.75rem;line-height:1.5'>\n",
    "    <li>If your skill level is 3 or more above your teammate's, then your chances are <code>2</code>.</li>\n",
    "    <li>If your skill level is within 2 of your teammate's, the your chances are <code>1</code>.</li>\n",
    "    <li>If your skill level is 3 or less below your teammate's, then your chances are <code>0</code>.</li>\n",
    "</ul>\n",
    "<p style='font-size:1.75rem;line-height:1.5'>\n",
    "    Based on you and your teammate's skill levels, print your chances of winning.\n",
    "    </p>\n",
    "    \n",
    "<p style='font-size:1.75rem;line-height:1.5'>\n",
    "    Check your answer by running the code several times and manually checking the result.\n",
    "    </p>"
   ]
  },
  {
   "cell_type": "code",
   "execution_count": null,
   "metadata": {},
   "outputs": [],
   "source": [
    "# This code generates and prints the skill levels.\n",
    "# (Don't worry about understanding it.)\n",
    "from random import randint     # import the randint function\n",
    "you = randint(0, 10)           # pick a random integer between 0 and 10\n",
    "tm = randint(0, 10)            # pick a random integer between 0 and 10\n",
    "print(\"You: \" + str(you))      # print your skill level\n",
    "print(\"Teammate: \" + str(tm))  # print teammate's skill level\n",
    "\n",
    "# Start your code here\n",
    "\n"
   ]
  },
  {
   "cell_type": "markdown",
   "metadata": {},
   "source": [
    "# Lone Sum\n",
    "<p style='font-size:1.75rem;line-height:1.5'>\n",
    "    Given three random integers <code>a</code>, <code>b</code>, and <code>c</code>, print their sum. However, if two numbers have the same value, neither value counts towards the sum. For example:\n",
    "    </p>\n",
    "<p style='font-size:1.75rem;line-height:1.5'>\n",
    "Check your answer by running the code several times and manually checking the result.\n",
    "    </p>"
   ]
  },
  {
   "cell_type": "code",
   "execution_count": null,
   "metadata": {},
   "outputs": [],
   "source": [
    "# This code generates and prints the random numbers.\n",
    "# (Don't worry about understanding it for now.)\n",
    "from random import randint  # import the randint function\n",
    "a = randint(0, 5)           # pick a random integer between 0 and 5\n",
    "b = randint(0, 5)           # pick a random integer between 0 and 5\n",
    "c = randint(0, 5)           # pick a random integer between 0 and 5\n",
    "print('a: ' + str(a))       # print a\n",
    "print('b: ' + str(b))       # print b\n",
    "print('c: ' + str(c))       # print c\n",
    "\n",
    "# Start your code here\n",
    "\n"
   ]
  }
 ],
 "metadata": {
  "kernelspec": {
   "display_name": "Python 2",
   "language": "python",
   "name": "python2"
  },
  "language_info": {
   "codemirror_mode": {
    "name": "ipython",
    "version": 2
   },
   "file_extension": ".py",
   "mimetype": "text/x-python",
   "name": "python",
   "nbconvert_exporter": "python",
   "pygments_lexer": "ipython2",
   "version": "2.7.16"
  }
 },
 "nbformat": 4,
 "nbformat_minor": 2
}
